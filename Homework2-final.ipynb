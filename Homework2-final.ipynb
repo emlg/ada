{
 "cells": [
  {
   "cell_type": "markdown",
   "metadata": {},
   "source": [
    "# ADA - Homework 2"
   ]
  },
  {
   "cell_type": "code",
   "execution_count": 1,
   "metadata": {},
   "outputs": [],
   "source": [
    "#Usefull imports\n",
    "import numpy as np\n",
    "import requests\n",
    "from bs4 import BeautifulSoup\n",
    "import pandas as pd\n",
    "import json\n",
    "import seaborn\n",
    "%matplotlib inline\n",
    "import matplotlib.pyplot as plt"
   ]
  },
  {
   "cell_type": "markdown",
   "metadata": {},
   "source": [
    "## FIRST PART : topuniversities.com"
   ]
  },
  {
   "cell_type": "markdown",
   "metadata": {},
   "source": [
    "## Plan\n",
    "1. Get the data from the website\n",
    "2. Load the data in a dataframe\n",
    "3. Complete the dataframe with the details pages\n",
    "4. Compute the best ratio of Faculty Members/Students\n",
    "5. Compute the best ratio of International Students/Local students\n",
    "6. Redo the points 4 and 5 for each country\n",
    "7. Redo the points 4 and 5 for each region\n",
    "8. Plot the data with bar charts and describe"
   ]
  },
  {
   "cell_type": "markdown",
   "metadata": {},
   "source": [
    "### 1. Fetch data"
   ]
  },
  {
   "cell_type": "code",
   "execution_count": 2,
   "metadata": {},
   "outputs": [],
   "source": [
    "#Given an url, get the soup with Beautiful soup\n",
    "def get_soup_from_url(url):\n",
    "    r = requests.get(url)\n",
    "    return BeautifulSoup(r.text, 'html.parser')"
   ]
  },
  {
   "cell_type": "markdown",
   "metadata": {},
   "source": [
    "We retreived the file from the url : https://www.topuniversities.com/sites/default/files/qs-rankings-data/357051.txt?_=1508145219316 <br>\n",
    "This URL was found by using the Postman tracker and looking for the term \"file\" in the GET request URLs. <br>\n",
    "The content of this page is a json file with the following data : rank of universities, their name, country, region and related webpage (where we will find the data to compute the ratios)"
   ]
  },
  {
   "cell_type": "code",
   "execution_count": 3,
   "metadata": {},
   "outputs": [],
   "source": [
    "#Given an url, get the dictionnary of the web page content\n",
    "def get_dict_from_url(url):\n",
    "    soup = get_soup_from_url(url)\n",
    "    return json.loads(soup.text)"
   ]
  },
  {
   "cell_type": "code",
   "execution_count": 4,
   "metadata": {},
   "outputs": [],
   "source": [
    "top_dict = get_dict_from_url('https://www.topuniversities.com/sites/default/files/qs-rankings-data/357051.txt?_=1508145219316')"
   ]
  },
  {
   "cell_type": "markdown",
   "metadata": {},
   "source": [
    "### 2-3. Load in DF & Complete with detail page"
   ]
  },
  {
   "cell_type": "markdown",
   "metadata": {},
   "source": [
    "Keep columns : \n",
    "- name : title\n",
    "- rank : rank_display\n",
    "- country : country\n",
    "- region : region\n",
    "- number of faculty members\n",
    "- number of students (international and total) <br>\n",
    "\n",
    "Method : \n",
    "- In order to get the name, rank, country and region attributes, we only need to read the dictionnaries in the data retreived from the ranking page\n",
    "- To have the numbers of Faculty Members and Students along with the number of international in both categories, we need to access the specific page of the university. This is done with the url attribute of the dictionnary. By inspection we found that all these values were the 4 first instances of the class \"number\". We still need to fetch the outer division with a more general name as some pages lack some information (eg. International Faculty number) so we cannot rely on the order of the numbers in the result of findAll(numbers)."
   ]
  },
  {
   "cell_type": "code",
   "execution_count": 5,
   "metadata": {},
   "outputs": [],
   "source": [
    "#When we do a findAll on a soup, the ResultSet contains some tags.\n",
    "#This function let us retreive the int value of a tag\n",
    "def parse_tag_to_number(to_parse):\n",
    "    number = 0\n",
    "    for i in range(len(to_parse)):\n",
    "        string = to_parse[i].string\n",
    "        string = string.replace(\"\\n\", \"\").replace(\" \",\"\").replace(\",\", \"\")\n",
    "        number = int(string)\n",
    "    return number"
   ]
  },
  {
   "cell_type": "code",
   "execution_count": 6,
   "metadata": {},
   "outputs": [],
   "source": [
    "#This function is used to retrieve a number in a soup given the outer division class name.\n",
    "def fetch_number(soup, class_name):\n",
    "    div_outer = soup.findAll('div', attrs = {'class' :  class_name})\n",
    "    nb_tag = div_outer[0].findAll('div', attrs = {'class': 'number'})\n",
    "    return parse_tag_to_number(nb_tag)"
   ]
  },
  {
   "cell_type": "markdown",
   "metadata": {},
   "source": [
    "__Note__ :\n",
    "- 'fs' is short for faculty and students \n",
    "- 'il' is short for international and local students"
   ]
  },
  {
   "cell_type": "code",
   "execution_count": 7,
   "metadata": {},
   "outputs": [],
   "source": [
    "#This functions computes the 2 ratios, first retreive the 3 numbers we need and then round result\n",
    "def get_ratios(soup):\n",
    "    nb_faculty = fetch_number(soup, \"total faculty\")\n",
    "    nb_student = fetch_number(soup, \"total student\")\n",
    "    nb_intl_student = fetch_number(soup, \"total inter\")\n",
    "    #We don't take the pourcentage for the fs ratio to match the format of \n",
    "    #timeshighereducation data but the il ratio is in pourcentages\n",
    "    fs_ratio = nb_student/nb_faculty\n",
    "    il_ratio = nb_intl_student*100/nb_student\n",
    "    return np.round(fs_ratio,2), np.round(il_ratio,2)"
   ]
  },
  {
   "cell_type": "code",
   "execution_count": 8,
   "metadata": {},
   "outputs": [],
   "source": [
    "#From the dict we fill the dataframe\n",
    "def get_df_from_dict(data_dict):\n",
    "    df = pd.DataFrame(columns = ['university', 'rank', 'country', 'region',\n",
    "                                'faculty_student_ratio',\n",
    "                                'international_local_student_ratio'])\n",
    "    #We keep only the top 200 universities\n",
    "    for ranking in (data_dict['data'])[:200]:\n",
    "        #We retreive the specific university website\n",
    "        university_url = 'https://www.topuniversities.com/'+ ranking['url']\n",
    "        temp_soup = get_soup_from_url(university_url)\n",
    "        try:\n",
    "            fs_ratio, il_ratio = get_ratios(temp_soup)\n",
    "            df.loc[len(df)] = [ranking['title'], ranking['rank_display'], \n",
    "                               ranking['country'], ranking['region'],\n",
    "                                fs_ratio, il_ratio]\n",
    "        except IndexError :\n",
    "            #This is in case the specific university website is 404.\n",
    "            print('Missing information at : ' +ranking['url'])\n",
    "    return df"
   ]
  },
  {
   "cell_type": "code",
   "execution_count": 9,
   "metadata": {},
   "outputs": [
    {
     "name": "stdout",
     "output_type": "stream",
     "text": [
      "Missing information at : /universities/new-york-university-nyu\n"
     ]
    }
   ],
   "source": [
    "top_df = get_df_from_dict(top_dict)"
   ]
  },
  {
   "cell_type": "code",
   "execution_count": 10,
   "metadata": {},
   "outputs": [
    {
     "data": {
      "text/html": [
       "<div>\n",
       "<style>\n",
       "    .dataframe thead tr:only-child th {\n",
       "        text-align: right;\n",
       "    }\n",
       "\n",
       "    .dataframe thead th {\n",
       "        text-align: left;\n",
       "    }\n",
       "\n",
       "    .dataframe tbody tr th {\n",
       "        vertical-align: top;\n",
       "    }\n",
       "</style>\n",
       "<table border=\"1\" class=\"dataframe\">\n",
       "  <thead>\n",
       "    <tr style=\"text-align: right;\">\n",
       "      <th></th>\n",
       "      <th>university</th>\n",
       "      <th>rank</th>\n",
       "      <th>country</th>\n",
       "      <th>region</th>\n",
       "      <th>faculty_student_ratio</th>\n",
       "      <th>international_local_student_ratio</th>\n",
       "    </tr>\n",
       "  </thead>\n",
       "  <tbody>\n",
       "    <tr>\n",
       "      <th>0</th>\n",
       "      <td>Massachusetts Institute of Technology (MIT)</td>\n",
       "      <td>1</td>\n",
       "      <td>United States</td>\n",
       "      <td>North America</td>\n",
       "      <td>3.71</td>\n",
       "      <td>33.59</td>\n",
       "    </tr>\n",
       "    <tr>\n",
       "      <th>1</th>\n",
       "      <td>Stanford University</td>\n",
       "      <td>2</td>\n",
       "      <td>United States</td>\n",
       "      <td>North America</td>\n",
       "      <td>3.71</td>\n",
       "      <td>22.74</td>\n",
       "    </tr>\n",
       "    <tr>\n",
       "      <th>2</th>\n",
       "      <td>Harvard University</td>\n",
       "      <td>3</td>\n",
       "      <td>United States</td>\n",
       "      <td>North America</td>\n",
       "      <td>5.16</td>\n",
       "      <td>23.48</td>\n",
       "    </tr>\n",
       "    <tr>\n",
       "      <th>3</th>\n",
       "      <td>California Institute of Technology (Caltech)</td>\n",
       "      <td>4</td>\n",
       "      <td>United States</td>\n",
       "      <td>North America</td>\n",
       "      <td>2.37</td>\n",
       "      <td>28.69</td>\n",
       "    </tr>\n",
       "    <tr>\n",
       "      <th>4</th>\n",
       "      <td>University of Cambridge</td>\n",
       "      <td>5</td>\n",
       "      <td>United Kingdom</td>\n",
       "      <td>Europe</td>\n",
       "      <td>3.42</td>\n",
       "      <td>35.69</td>\n",
       "    </tr>\n",
       "  </tbody>\n",
       "</table>\n",
       "</div>"
      ],
      "text/plain": [
       "                                     university rank         country  \\\n",
       "0   Massachusetts Institute of Technology (MIT)    1   United States   \n",
       "1                           Stanford University    2   United States   \n",
       "2                            Harvard University    3   United States   \n",
       "3  California Institute of Technology (Caltech)    4   United States   \n",
       "4                       University of Cambridge    5  United Kingdom   \n",
       "\n",
       "          region  faculty_student_ratio  international_local_student_ratio  \n",
       "0  North America                   3.71                              33.59  \n",
       "1  North America                   3.71                              22.74  \n",
       "2  North America                   5.16                              23.48  \n",
       "3  North America                   2.37                              28.69  \n",
       "4         Europe                   3.42                              35.69  "
      ]
     },
     "execution_count": 10,
     "metadata": {},
     "output_type": "execute_result"
    }
   ],
   "source": [
    "top_df.head()"
   ]
  },
  {
   "cell_type": "markdown",
   "metadata": {},
   "source": [
    "### 4. Best Staff/Student Ratio\n",
    "We make the assumption that the best ratio is the higher numerical value, that is to say the less students per staff. We will make the same assumption for International/Local Ratio, the more international students per local student"
   ]
  },
  {
   "cell_type": "code",
   "execution_count": 11,
   "metadata": {},
   "outputs": [],
   "source": [
    "#This function is used to return the row where the category given is maximised\n",
    "def get_best_ratio(df, category):\n",
    "    max_value = max(df[category])\n",
    "    return df[df[category] == max_value]"
   ]
  },
  {
   "cell_type": "code",
   "execution_count": 12,
   "metadata": {},
   "outputs": [
    {
     "name": "stdout",
     "output_type": "stream",
     "text": [
      "The best Staff/Student ratio university according to topuniversities is \n"
     ]
    },
    {
     "data": {
      "text/html": [
       "<div>\n",
       "<style>\n",
       "    .dataframe thead tr:only-child th {\n",
       "        text-align: right;\n",
       "    }\n",
       "\n",
       "    .dataframe thead th {\n",
       "        text-align: left;\n",
       "    }\n",
       "\n",
       "    .dataframe tbody tr th {\n",
       "        vertical-align: top;\n",
       "    }\n",
       "</style>\n",
       "<table border=\"1\" class=\"dataframe\">\n",
       "  <thead>\n",
       "    <tr style=\"text-align: right;\">\n",
       "      <th></th>\n",
       "      <th>university</th>\n",
       "      <th>faculty_student_ratio</th>\n",
       "    </tr>\n",
       "  </thead>\n",
       "  <tbody>\n",
       "    <tr>\n",
       "      <th>183</th>\n",
       "      <td>Vienna University of Technology</td>\n",
       "      <td>24.76</td>\n",
       "    </tr>\n",
       "  </tbody>\n",
       "</table>\n",
       "</div>"
      ],
      "text/plain": [
       "                          university  faculty_student_ratio\n",
       "183  Vienna University of Technology                  24.76"
      ]
     },
     "execution_count": 12,
     "metadata": {},
     "output_type": "execute_result"
    }
   ],
   "source": [
    "top_ss_ratio = get_best_ratio(top_df, 'faculty_student_ratio')\n",
    "print(\"The best Staff/Student ratio university according to topuniversities is \") \n",
    "top_ss_ratio[['university', 'faculty_student_ratio']]"
   ]
  },
  {
   "cell_type": "markdown",
   "metadata": {},
   "source": [
    "### 5. Best International/Local Ratio"
   ]
  },
  {
   "cell_type": "code",
   "execution_count": 13,
   "metadata": {},
   "outputs": [
    {
     "name": "stdout",
     "output_type": "stream",
     "text": [
      "The best international/local ratio university according to topuniversities is \n"
     ]
    },
    {
     "data": {
      "text/html": [
       "<div>\n",
       "<style>\n",
       "    .dataframe thead tr:only-child th {\n",
       "        text-align: right;\n",
       "    }\n",
       "\n",
       "    .dataframe thead th {\n",
       "        text-align: left;\n",
       "    }\n",
       "\n",
       "    .dataframe tbody tr th {\n",
       "        vertical-align: top;\n",
       "    }\n",
       "</style>\n",
       "<table border=\"1\" class=\"dataframe\">\n",
       "  <thead>\n",
       "    <tr style=\"text-align: right;\">\n",
       "      <th></th>\n",
       "      <th>university</th>\n",
       "      <th>international_local_student_ratio</th>\n",
       "    </tr>\n",
       "  </thead>\n",
       "  <tbody>\n",
       "    <tr>\n",
       "      <th>34</th>\n",
       "      <td>London School of Economics and Political Scien...</td>\n",
       "      <td>69.14</td>\n",
       "    </tr>\n",
       "  </tbody>\n",
       "</table>\n",
       "</div>"
      ],
      "text/plain": [
       "                                           university  \\\n",
       "34  London School of Economics and Political Scien...   \n",
       "\n",
       "    international_local_student_ratio  \n",
       "34                              69.14  "
      ]
     },
     "execution_count": 13,
     "metadata": {},
     "output_type": "execute_result"
    }
   ],
   "source": [
    "top_il_ratio =get_best_ratio(top_df, 'international_local_student_ratio')\n",
    "print(\"The best international/local ratio university according to topuniversities is \") \n",
    "top_il_ratio[['university', 'international_local_student_ratio']]"
   ]
  },
  {
   "cell_type": "markdown",
   "metadata": {},
   "source": [
    "### 6. Aggregating by country"
   ]
  },
  {
   "cell_type": "code",
   "execution_count": 14,
   "metadata": {},
   "outputs": [],
   "source": [
    "# This function returns the maximums of the given category ('faculty_student ratio' or 'international_local_student_ratio')\n",
    "# for each unique element given by group_criterion ('country' or 'region') \n",
    "\n",
    "def get_best_ratios_by_group(df, group_criterion, category):\n",
    "    result = pd.DataFrame()\n",
    "    # We only take unique groups into consideration, e.g. {Argentina, Australia, Austria...} for countries\n",
    "    unique_groups = set(df[group_criterion])\n",
    "    for group in unique_groups:\n",
    "        # Get universities from the corresponding group\n",
    "        univ_from_group = df[df[group_criterion] == group]\n",
    "        # Pick university with the max in the given category\n",
    "        best = get_best_ratio(univ_from_group, category)\n",
    "        result = result.append(best)\n",
    "    # Sorting by group_criterion for a better presentation of the dataframe :) \n",
    "    result = result.sort_values(group_criterion)\n",
    "    return result[[group_criterion, 'university', category]].set_index(group_criterion)"
   ]
  },
  {
   "cell_type": "markdown",
   "metadata": {},
   "source": [
    "#### Best faculty/student ratio per country"
   ]
  },
  {
   "cell_type": "code",
   "execution_count": 15,
   "metadata": {},
   "outputs": [
    {
     "data": {
      "text/html": [
       "<div>\n",
       "<style>\n",
       "    .dataframe thead tr:only-child th {\n",
       "        text-align: right;\n",
       "    }\n",
       "\n",
       "    .dataframe thead th {\n",
       "        text-align: left;\n",
       "    }\n",
       "\n",
       "    .dataframe tbody tr th {\n",
       "        vertical-align: top;\n",
       "    }\n",
       "</style>\n",
       "<table border=\"1\" class=\"dataframe\">\n",
       "  <thead>\n",
       "    <tr style=\"text-align: right;\">\n",
       "      <th></th>\n",
       "      <th>university</th>\n",
       "      <th>faculty_student_ratio</th>\n",
       "    </tr>\n",
       "    <tr>\n",
       "      <th>country</th>\n",
       "      <th></th>\n",
       "      <th></th>\n",
       "    </tr>\n",
       "  </thead>\n",
       "  <tbody>\n",
       "    <tr>\n",
       "      <th>Argentina</th>\n",
       "      <td>Universidad de Buenos Aires (UBA)</td>\n",
       "      <td>7.45</td>\n",
       "    </tr>\n",
       "    <tr>\n",
       "      <th>Australia</th>\n",
       "      <td>University of Technology Sydney</td>\n",
       "      <td>18.23</td>\n",
       "    </tr>\n",
       "    <tr>\n",
       "      <th>Austria</th>\n",
       "      <td>Vienna University of Technology</td>\n",
       "      <td>24.76</td>\n",
       "    </tr>\n",
       "    <tr>\n",
       "      <th>Belgium</th>\n",
       "      <td>Université catholique de Louvain (UCL)</td>\n",
       "      <td>19.92</td>\n",
       "    </tr>\n",
       "    <tr>\n",
       "      <th>Brazil</th>\n",
       "      <td>Universidade Estadual de Campinas (Unicamp)</td>\n",
       "      <td>13.50</td>\n",
       "    </tr>\n",
       "  </tbody>\n",
       "</table>\n",
       "</div>"
      ],
      "text/plain": [
       "                                            university  faculty_student_ratio\n",
       "country                                                                      \n",
       "Argentina            Universidad de Buenos Aires (UBA)                   7.45\n",
       "Australia              University of Technology Sydney                  18.23\n",
       "Austria                Vienna University of Technology                  24.76\n",
       "Belgium         Université catholique de Louvain (UCL)                  19.92\n",
       "Brazil     Universidade Estadual de Campinas (Unicamp)                  13.50"
      ]
     },
     "execution_count": 15,
     "metadata": {},
     "output_type": "execute_result"
    }
   ],
   "source": [
    "top_fsratios_country_df = get_best_ratios_by_group(top_df, 'country', 'faculty_student_ratio')\n",
    "top_fsratios_country_df.head()"
   ]
  },
  {
   "cell_type": "markdown",
   "metadata": {},
   "source": [
    "#### Best international/local student ratio per country"
   ]
  },
  {
   "cell_type": "code",
   "execution_count": 16,
   "metadata": {},
   "outputs": [
    {
     "data": {
      "text/html": [
       "<div>\n",
       "<style>\n",
       "    .dataframe thead tr:only-child th {\n",
       "        text-align: right;\n",
       "    }\n",
       "\n",
       "    .dataframe thead th {\n",
       "        text-align: left;\n",
       "    }\n",
       "\n",
       "    .dataframe tbody tr th {\n",
       "        vertical-align: top;\n",
       "    }\n",
       "</style>\n",
       "<table border=\"1\" class=\"dataframe\">\n",
       "  <thead>\n",
       "    <tr style=\"text-align: right;\">\n",
       "      <th></th>\n",
       "      <th>university</th>\n",
       "      <th>international_local_student_ratio</th>\n",
       "    </tr>\n",
       "    <tr>\n",
       "      <th>country</th>\n",
       "      <th></th>\n",
       "      <th></th>\n",
       "    </tr>\n",
       "  </thead>\n",
       "  <tbody>\n",
       "    <tr>\n",
       "      <th>Argentina</th>\n",
       "      <td>Universidad de Buenos Aires (UBA)</td>\n",
       "      <td>22.17</td>\n",
       "    </tr>\n",
       "    <tr>\n",
       "      <th>Australia</th>\n",
       "      <td>The University of Melbourne</td>\n",
       "      <td>42.74</td>\n",
       "    </tr>\n",
       "    <tr>\n",
       "      <th>Austria</th>\n",
       "      <td>University of Vienna</td>\n",
       "      <td>31.47</td>\n",
       "    </tr>\n",
       "    <tr>\n",
       "      <th>Belgium</th>\n",
       "      <td>Vrije Universiteit Brussel (VUB)</td>\n",
       "      <td>19.96</td>\n",
       "    </tr>\n",
       "    <tr>\n",
       "      <th>Brazil</th>\n",
       "      <td>Universidade Estadual de Campinas (Unicamp)</td>\n",
       "      <td>3.64</td>\n",
       "    </tr>\n",
       "  </tbody>\n",
       "</table>\n",
       "</div>"
      ],
      "text/plain": [
       "                                            university  \\\n",
       "country                                                  \n",
       "Argentina            Universidad de Buenos Aires (UBA)   \n",
       "Australia                  The University of Melbourne   \n",
       "Austria                           University of Vienna   \n",
       "Belgium               Vrije Universiteit Brussel (VUB)   \n",
       "Brazil     Universidade Estadual de Campinas (Unicamp)   \n",
       "\n",
       "           international_local_student_ratio  \n",
       "country                                       \n",
       "Argentina                              22.17  \n",
       "Australia                              42.74  \n",
       "Austria                                31.47  \n",
       "Belgium                                19.96  \n",
       "Brazil                                  3.64  "
      ]
     },
     "execution_count": 16,
     "metadata": {},
     "output_type": "execute_result"
    }
   ],
   "source": [
    "top_ilratios_country_df = get_best_ratios_by_group(top_df, 'country', 'international_local_student_ratio')\n",
    "top_ilratios_country_df.head()"
   ]
  },
  {
   "cell_type": "markdown",
   "metadata": {},
   "source": [
    "#### Number of universities in the top-200 per country"
   ]
  },
  {
   "cell_type": "code",
   "execution_count": 17,
   "metadata": {},
   "outputs": [],
   "source": [
    "### Function that returns a dataframe giving the number of universities per group_criterion (country or region) \n",
    "def univ_per_group(df, group_criterion):\n",
    "    final_df = df.groupby(group_criterion).count().sort_values(['university'], ascending = False)[['university']]\n",
    "    final_df = final_df.rename(columns = {'university':'universities'})\n",
    "    return final_df"
   ]
  },
  {
   "cell_type": "code",
   "execution_count": 18,
   "metadata": {},
   "outputs": [
    {
     "data": {
      "text/html": [
       "<div>\n",
       "<style>\n",
       "    .dataframe thead tr:only-child th {\n",
       "        text-align: right;\n",
       "    }\n",
       "\n",
       "    .dataframe thead th {\n",
       "        text-align: left;\n",
       "    }\n",
       "\n",
       "    .dataframe tbody tr th {\n",
       "        vertical-align: top;\n",
       "    }\n",
       "</style>\n",
       "<table border=\"1\" class=\"dataframe\">\n",
       "  <thead>\n",
       "    <tr style=\"text-align: right;\">\n",
       "      <th></th>\n",
       "      <th>universities</th>\n",
       "    </tr>\n",
       "    <tr>\n",
       "      <th>country</th>\n",
       "      <th></th>\n",
       "    </tr>\n",
       "  </thead>\n",
       "  <tbody>\n",
       "    <tr>\n",
       "      <th>United States</th>\n",
       "      <td>46</td>\n",
       "    </tr>\n",
       "    <tr>\n",
       "      <th>United Kingdom</th>\n",
       "      <td>28</td>\n",
       "    </tr>\n",
       "    <tr>\n",
       "      <th>Germany</th>\n",
       "      <td>11</td>\n",
       "    </tr>\n",
       "    <tr>\n",
       "      <th>Netherlands</th>\n",
       "      <td>10</td>\n",
       "    </tr>\n",
       "    <tr>\n",
       "      <th>Australia</th>\n",
       "      <td>9</td>\n",
       "    </tr>\n",
       "  </tbody>\n",
       "</table>\n",
       "</div>"
      ],
      "text/plain": [
       "                universities\n",
       "country                     \n",
       "United States             46\n",
       "United Kingdom            28\n",
       "Germany                   11\n",
       "Netherlands               10\n",
       "Australia                  9"
      ]
     },
     "execution_count": 18,
     "metadata": {},
     "output_type": "execute_result"
    }
   ],
   "source": [
    "top_univ_per_country = univ_per_group(top_df, 'country')\n",
    "top_univ_per_country.head()"
   ]
  },
  {
   "cell_type": "markdown",
   "metadata": {},
   "source": [
    "### 7. Aggregating by region"
   ]
  },
  {
   "cell_type": "markdown",
   "metadata": {},
   "source": [
    "#### Best faculty/student ratio per region"
   ]
  },
  {
   "cell_type": "code",
   "execution_count": 19,
   "metadata": {},
   "outputs": [
    {
     "data": {
      "text/html": [
       "<div>\n",
       "<style>\n",
       "    .dataframe thead tr:only-child th {\n",
       "        text-align: right;\n",
       "    }\n",
       "\n",
       "    .dataframe thead th {\n",
       "        text-align: left;\n",
       "    }\n",
       "\n",
       "    .dataframe tbody tr th {\n",
       "        vertical-align: top;\n",
       "    }\n",
       "</style>\n",
       "<table border=\"1\" class=\"dataframe\">\n",
       "  <thead>\n",
       "    <tr style=\"text-align: right;\">\n",
       "      <th></th>\n",
       "      <th>university</th>\n",
       "      <th>faculty_student_ratio</th>\n",
       "    </tr>\n",
       "    <tr>\n",
       "      <th>region</th>\n",
       "      <th></th>\n",
       "      <th></th>\n",
       "    </tr>\n",
       "  </thead>\n",
       "  <tbody>\n",
       "    <tr>\n",
       "      <th>Africa</th>\n",
       "      <td>University of Cape Town</td>\n",
       "      <td>11.31</td>\n",
       "    </tr>\n",
       "    <tr>\n",
       "      <th>Asia</th>\n",
       "      <td>Indian Institute of Technology Delhi (IITD)</td>\n",
       "      <td>16.05</td>\n",
       "    </tr>\n",
       "    <tr>\n",
       "      <th>Europe</th>\n",
       "      <td>Vienna University of Technology</td>\n",
       "      <td>24.76</td>\n",
       "    </tr>\n",
       "    <tr>\n",
       "      <th>Latin America</th>\n",
       "      <td>Universidad de Chile</td>\n",
       "      <td>17.22</td>\n",
       "    </tr>\n",
       "    <tr>\n",
       "      <th>North America</th>\n",
       "      <td>University of Washington</td>\n",
       "      <td>22.94</td>\n",
       "    </tr>\n",
       "    <tr>\n",
       "      <th>Oceania</th>\n",
       "      <td>University of Technology Sydney</td>\n",
       "      <td>18.23</td>\n",
       "    </tr>\n",
       "  </tbody>\n",
       "</table>\n",
       "</div>"
      ],
      "text/plain": [
       "                                                university  \\\n",
       "region                                                       \n",
       "Africa                             University of Cape Town   \n",
       "Asia           Indian Institute of Technology Delhi (IITD)   \n",
       "Europe                     Vienna University of Technology   \n",
       "Latin America                         Universidad de Chile   \n",
       "North America                     University of Washington   \n",
       "Oceania                    University of Technology Sydney   \n",
       "\n",
       "               faculty_student_ratio  \n",
       "region                                \n",
       "Africa                         11.31  \n",
       "Asia                           16.05  \n",
       "Europe                         24.76  \n",
       "Latin America                  17.22  \n",
       "North America                  22.94  \n",
       "Oceania                        18.23  "
      ]
     },
     "execution_count": 19,
     "metadata": {},
     "output_type": "execute_result"
    }
   ],
   "source": [
    "top_fsratios_region_df = get_best_ratios_by_group(top_df, 'region', 'faculty_student_ratio')\n",
    "top_fsratios_region_df"
   ]
  },
  {
   "cell_type": "markdown",
   "metadata": {},
   "source": [
    "#### Best international/local student ratio per region"
   ]
  },
  {
   "cell_type": "code",
   "execution_count": 20,
   "metadata": {},
   "outputs": [
    {
     "data": {
      "text/html": [
       "<div>\n",
       "<style>\n",
       "    .dataframe thead tr:only-child th {\n",
       "        text-align: right;\n",
       "    }\n",
       "\n",
       "    .dataframe thead th {\n",
       "        text-align: left;\n",
       "    }\n",
       "\n",
       "    .dataframe tbody tr th {\n",
       "        vertical-align: top;\n",
       "    }\n",
       "</style>\n",
       "<table border=\"1\" class=\"dataframe\">\n",
       "  <thead>\n",
       "    <tr style=\"text-align: right;\">\n",
       "      <th></th>\n",
       "      <th>university</th>\n",
       "      <th>international_local_student_ratio</th>\n",
       "    </tr>\n",
       "    <tr>\n",
       "      <th>region</th>\n",
       "      <th></th>\n",
       "      <th></th>\n",
       "    </tr>\n",
       "  </thead>\n",
       "  <tbody>\n",
       "    <tr>\n",
       "      <th>Africa</th>\n",
       "      <td>University of Cape Town</td>\n",
       "      <td>16.97</td>\n",
       "    </tr>\n",
       "    <tr>\n",
       "      <th>Asia</th>\n",
       "      <td>The University of Hong Kong</td>\n",
       "      <td>40.71</td>\n",
       "    </tr>\n",
       "    <tr>\n",
       "      <th>Europe</th>\n",
       "      <td>London School of Economics and Political Scien...</td>\n",
       "      <td>69.14</td>\n",
       "    </tr>\n",
       "    <tr>\n",
       "      <th>Latin America</th>\n",
       "      <td>Universidad de Buenos Aires (UBA)</td>\n",
       "      <td>22.17</td>\n",
       "    </tr>\n",
       "    <tr>\n",
       "      <th>North America</th>\n",
       "      <td>Carnegie Mellon University</td>\n",
       "      <td>47.81</td>\n",
       "    </tr>\n",
       "    <tr>\n",
       "      <th>Oceania</th>\n",
       "      <td>The University of Melbourne</td>\n",
       "      <td>42.74</td>\n",
       "    </tr>\n",
       "  </tbody>\n",
       "</table>\n",
       "</div>"
      ],
      "text/plain": [
       "                                                      university  \\\n",
       "region                                                             \n",
       "Africa                                   University of Cape Town   \n",
       "Asia                                 The University of Hong Kong   \n",
       "Europe         London School of Economics and Political Scien...   \n",
       "Latin America                  Universidad de Buenos Aires (UBA)   \n",
       "North America                         Carnegie Mellon University   \n",
       "Oceania                              The University of Melbourne   \n",
       "\n",
       "               international_local_student_ratio  \n",
       "region                                            \n",
       "Africa                                     16.97  \n",
       "Asia                                       40.71  \n",
       "Europe                                     69.14  \n",
       "Latin America                              22.17  \n",
       "North America                              47.81  \n",
       "Oceania                                    42.74  "
      ]
     },
     "execution_count": 20,
     "metadata": {},
     "output_type": "execute_result"
    }
   ],
   "source": [
    "top_ilratios_region_df = get_best_ratios_by_group(top_df, 'region', 'international_local_student_ratio')\n",
    "top_ilratios_region_df"
   ]
  },
  {
   "cell_type": "markdown",
   "metadata": {},
   "source": [
    "#### Number of universities in the top 200 per region"
   ]
  },
  {
   "cell_type": "code",
   "execution_count": 21,
   "metadata": {},
   "outputs": [
    {
     "data": {
      "text/html": [
       "<div>\n",
       "<style>\n",
       "    .dataframe thead tr:only-child th {\n",
       "        text-align: right;\n",
       "    }\n",
       "\n",
       "    .dataframe thead th {\n",
       "        text-align: left;\n",
       "    }\n",
       "\n",
       "    .dataframe tbody tr th {\n",
       "        vertical-align: top;\n",
       "    }\n",
       "</style>\n",
       "<table border=\"1\" class=\"dataframe\">\n",
       "  <thead>\n",
       "    <tr style=\"text-align: right;\">\n",
       "      <th></th>\n",
       "      <th>universities</th>\n",
       "    </tr>\n",
       "    <tr>\n",
       "      <th>region</th>\n",
       "      <th></th>\n",
       "    </tr>\n",
       "  </thead>\n",
       "  <tbody>\n",
       "    <tr>\n",
       "      <th>Europe</th>\n",
       "      <td>89</td>\n",
       "    </tr>\n",
       "    <tr>\n",
       "      <th>North America</th>\n",
       "      <td>53</td>\n",
       "    </tr>\n",
       "    <tr>\n",
       "      <th>Asia</th>\n",
       "      <td>38</td>\n",
       "    </tr>\n",
       "    <tr>\n",
       "      <th>Oceania</th>\n",
       "      <td>11</td>\n",
       "    </tr>\n",
       "    <tr>\n",
       "      <th>Latin America</th>\n",
       "      <td>7</td>\n",
       "    </tr>\n",
       "    <tr>\n",
       "      <th>Africa</th>\n",
       "      <td>1</td>\n",
       "    </tr>\n",
       "  </tbody>\n",
       "</table>\n",
       "</div>"
      ],
      "text/plain": [
       "               universities\n",
       "region                     \n",
       "Europe                   89\n",
       "North America            53\n",
       "Asia                     38\n",
       "Oceania                  11\n",
       "Latin America             7\n",
       "Africa                    1"
      ]
     },
     "execution_count": 21,
     "metadata": {},
     "output_type": "execute_result"
    }
   ],
   "source": [
    "top_univ_per_region = univ_per_group(top_df, 'region')\n",
    "top_univ_per_region"
   ]
  },
  {
   "cell_type": "markdown",
   "metadata": {},
   "source": [
    "### 8. Visualise and describe"
   ]
  },
  {
   "cell_type": "code",
   "execution_count": 22,
   "metadata": {},
   "outputs": [
    {
     "data": {
      "image/png": "[encoded data removed]",
      "text/plain": [
       "<matplotlib.figure.Figure at 0x1117a64a8>"
      ]
     },
     "metadata": {},
     "output_type": "display_data"
    }
   ],
   "source": [
    "#We decide to plot the number of university having the ratios in bins of 5 (either fs or il)\n",
    "fig = plt.figure(1)\n",
    "fig.set_size_inches(12, 2.5)\n",
    "\n",
    "plt.subplot(121)\n",
    "plt.hist(top_df['faculty_student_ratio'],bins=range(0,80, 5))\n",
    "plt.xlabel('Faculty/student ratio')\n",
    "plt.ylabel('Number of universities')\n",
    "plt.yticks(range(0,120,10))\n",
    "plt.title('Repartition of Faculty/Student ratio')\n",
    "\n",
    "plt.subplot(122)\n",
    "plt.hist(top_df['international_local_student_ratio'], bins=range(0,80, 5))\n",
    "plt.xlabel('International student %')\n",
    "plt.ylabel('Number of universities')\n",
    "plt.yticks(range(0, 120, 10))\n",
    "plt.title('Repartition of international student percentage')\n",
    "\n",
    "plt.subplots_adjust(top=1.5, bottom=0, left=0.10, right=0.95, hspace=0.25, wspace=0.35)\n",
    "plt.show()"
   ]
  },
  {
   "cell_type": "markdown",
   "metadata": {},
   "source": [
    "#### Analysis : \n",
    "We can see that the number of students per faculty member is not bigger than 25. The majority of universities have 5 to 10 students per faculty member. <br>\n",
    "Unlike the former ratio, the percentage of international students can go up to 70. Commonly the percentages lies between 5 and 30 %."
   ]
  },
  {
   "cell_type": "markdown",
   "metadata": {},
   "source": [
    "## SECOND PART : timeshighereducation.com\n",
    "For this part we redo the steps of the previous plan."
   ]
  },
  {
   "cell_type": "markdown",
   "metadata": {},
   "source": [
    "### 1. Fetch data"
   ]
  },
  {
   "cell_type": "code",
   "execution_count": 23,
   "metadata": {},
   "outputs": [],
   "source": [
    "times_dict = get_dict_from_url('https://www.timeshighereducation.com/sites/default/files/the_data_rankings/world_university_rankings_2018_limit0_369a9045a203e176392b9fb8f8c1cb2a.json')"
   ]
  },
  {
   "cell_type": "markdown",
   "metadata": {},
   "source": [
    "### 2. Load in DF"
   ]
  },
  {
   "cell_type": "code",
   "execution_count": 24,
   "metadata": {},
   "outputs": [],
   "source": [
    "#This function is used to parse the strings of the dict to float\n",
    "def parse_str_to_float(to_parse):\n",
    "    result = to_parse.replace(\"%\", \"\")\n",
    "    return float(result)"
   ]
  },
  {
   "cell_type": "code",
   "execution_count": 25,
   "metadata": {},
   "outputs": [],
   "source": [
    "times_df = pd.DataFrame(columns = ['university', 'rank', 'country',\n",
    "                                'faculty_student_ratio',\n",
    "                                'international_local_student_ratio'])\n",
    "#We also take only the 200 first rankings\n",
    "for ranking in (times_dict['data'])[:200]:\n",
    "    times_df.loc[len(times_df)] = [ranking['name'], ranking['rank'], ranking['location'], \n",
    "                                   parse_str_to_float(ranking['stats_student_staff_ratio']), \n",
    "                                   parse_str_to_float(ranking['stats_pc_intl_students'])]\n",
    "\n",
    "#We notice that there is one instance of \"Russian federation\" and we want it to become \"Russia\"    \n",
    "times_df.at[times_df['country'] == \"Russian Federation\", 'country'] = 'Russia'"
   ]
  },
  {
   "cell_type": "code",
   "execution_count": 26,
   "metadata": {},
   "outputs": [
    {
     "data": {
      "text/html": [
       "<div>\n",
       "<style>\n",
       "    .dataframe thead tr:only-child th {\n",
       "        text-align: right;\n",
       "    }\n",
       "\n",
       "    .dataframe thead th {\n",
       "        text-align: left;\n",
       "    }\n",
       "\n",
       "    .dataframe tbody tr th {\n",
       "        vertical-align: top;\n",
       "    }\n",
       "</style>\n",
       "<table border=\"1\" class=\"dataframe\">\n",
       "  <thead>\n",
       "    <tr style=\"text-align: right;\">\n",
       "      <th></th>\n",
       "      <th>university</th>\n",
       "      <th>rank</th>\n",
       "      <th>country</th>\n",
       "      <th>faculty_student_ratio</th>\n",
       "      <th>international_local_student_ratio</th>\n",
       "    </tr>\n",
       "  </thead>\n",
       "  <tbody>\n",
       "    <tr>\n",
       "      <th>0</th>\n",
       "      <td>University of Oxford</td>\n",
       "      <td>1</td>\n",
       "      <td>United Kingdom</td>\n",
       "      <td>11.2</td>\n",
       "      <td>38.0</td>\n",
       "    </tr>\n",
       "    <tr>\n",
       "      <th>1</th>\n",
       "      <td>University of Cambridge</td>\n",
       "      <td>2</td>\n",
       "      <td>United Kingdom</td>\n",
       "      <td>10.9</td>\n",
       "      <td>35.0</td>\n",
       "    </tr>\n",
       "    <tr>\n",
       "      <th>2</th>\n",
       "      <td>California Institute of Technology</td>\n",
       "      <td>=3</td>\n",
       "      <td>United States</td>\n",
       "      <td>6.5</td>\n",
       "      <td>27.0</td>\n",
       "    </tr>\n",
       "    <tr>\n",
       "      <th>3</th>\n",
       "      <td>Stanford University</td>\n",
       "      <td>=3</td>\n",
       "      <td>United States</td>\n",
       "      <td>7.5</td>\n",
       "      <td>22.0</td>\n",
       "    </tr>\n",
       "    <tr>\n",
       "      <th>4</th>\n",
       "      <td>Massachusetts Institute of Technology</td>\n",
       "      <td>5</td>\n",
       "      <td>United States</td>\n",
       "      <td>8.7</td>\n",
       "      <td>34.0</td>\n",
       "    </tr>\n",
       "  </tbody>\n",
       "</table>\n",
       "</div>"
      ],
      "text/plain": [
       "                              university rank         country  \\\n",
       "0                   University of Oxford    1  United Kingdom   \n",
       "1                University of Cambridge    2  United Kingdom   \n",
       "2     California Institute of Technology   =3   United States   \n",
       "3                    Stanford University   =3   United States   \n",
       "4  Massachusetts Institute of Technology    5   United States   \n",
       "\n",
       "   faculty_student_ratio  international_local_student_ratio  \n",
       "0                   11.2                               38.0  \n",
       "1                   10.9                               35.0  \n",
       "2                    6.5                               27.0  \n",
       "3                    7.5                               22.0  \n",
       "4                    8.7                               34.0  "
      ]
     },
     "execution_count": 26,
     "metadata": {},
     "output_type": "execute_result"
    }
   ],
   "source": [
    "times_df.head()"
   ]
  },
  {
   "cell_type": "markdown",
   "metadata": {},
   "source": [
    "### 4. Best Staff/Student Ratio"
   ]
  },
  {
   "cell_type": "code",
   "execution_count": 27,
   "metadata": {},
   "outputs": [
    {
     "name": "stdout",
     "output_type": "stream",
     "text": [
      "The best Staff/Student ratio university according to timeshighereducation is \n"
     ]
    },
    {
     "data": {
      "text/html": [
       "<div>\n",
       "<style>\n",
       "    .dataframe thead tr:only-child th {\n",
       "        text-align: right;\n",
       "    }\n",
       "\n",
       "    .dataframe thead th {\n",
       "        text-align: left;\n",
       "    }\n",
       "\n",
       "    .dataframe tbody tr th {\n",
       "        vertical-align: top;\n",
       "    }\n",
       "</style>\n",
       "<table border=\"1\" class=\"dataframe\">\n",
       "  <thead>\n",
       "    <tr style=\"text-align: right;\">\n",
       "      <th></th>\n",
       "      <th>university</th>\n",
       "      <th>faculty_student_ratio</th>\n",
       "    </tr>\n",
       "  </thead>\n",
       "  <tbody>\n",
       "    <tr>\n",
       "      <th>99</th>\n",
       "      <td>University of Bonn</td>\n",
       "      <td>77.9</td>\n",
       "    </tr>\n",
       "  </tbody>\n",
       "</table>\n",
       "</div>"
      ],
      "text/plain": [
       "            university  faculty_student_ratio\n",
       "99  University of Bonn                   77.9"
      ]
     },
     "execution_count": 27,
     "metadata": {},
     "output_type": "execute_result"
    }
   ],
   "source": [
    "times_ss_ratio = get_best_ratio(times_df, 'faculty_student_ratio')\n",
    "print(\"The best Staff/Student ratio university according to timeshighereducation is \") \n",
    "times_ss_ratio[['university', 'faculty_student_ratio']]"
   ]
  },
  {
   "cell_type": "markdown",
   "metadata": {},
   "source": [
    "### 5. Best International/Local Ratio"
   ]
  },
  {
   "cell_type": "code",
   "execution_count": 28,
   "metadata": {},
   "outputs": [
    {
     "name": "stdout",
     "output_type": "stream",
     "text": [
      "The best international/local ratio university according to timeshighereducation is \n"
     ]
    },
    {
     "data": {
      "text/html": [
       "<div>\n",
       "<style>\n",
       "    .dataframe thead tr:only-child th {\n",
       "        text-align: right;\n",
       "    }\n",
       "\n",
       "    .dataframe thead th {\n",
       "        text-align: left;\n",
       "    }\n",
       "\n",
       "    .dataframe tbody tr th {\n",
       "        vertical-align: top;\n",
       "    }\n",
       "</style>\n",
       "<table border=\"1\" class=\"dataframe\">\n",
       "  <thead>\n",
       "    <tr style=\"text-align: right;\">\n",
       "      <th></th>\n",
       "      <th>university</th>\n",
       "      <th>international_local_student_ratio</th>\n",
       "    </tr>\n",
       "  </thead>\n",
       "  <tbody>\n",
       "    <tr>\n",
       "      <th>24</th>\n",
       "      <td>London School of Economics and Political Science</td>\n",
       "      <td>71.0</td>\n",
       "    </tr>\n",
       "  </tbody>\n",
       "</table>\n",
       "</div>"
      ],
      "text/plain": [
       "                                          university  \\\n",
       "24  London School of Economics and Political Science   \n",
       "\n",
       "    international_local_student_ratio  \n",
       "24                               71.0  "
      ]
     },
     "execution_count": 28,
     "metadata": {},
     "output_type": "execute_result"
    }
   ],
   "source": [
    "times_il_ratio = get_best_ratio(times_df, 'international_local_student_ratio')\n",
    "print(\"The best international/local ratio university according to timeshighereducation is \") \n",
    "times_il_ratio[['university', 'international_local_student_ratio']]"
   ]
  },
  {
   "cell_type": "markdown",
   "metadata": {},
   "source": [
    "### 6. Group by country"
   ]
  },
  {
   "cell_type": "markdown",
   "metadata": {},
   "source": [
    "#### Best faculty/student ratio per country"
   ]
  },
  {
   "cell_type": "code",
   "execution_count": 29,
   "metadata": {},
   "outputs": [
    {
     "data": {
      "text/html": [
       "<div>\n",
       "<style>\n",
       "    .dataframe thead tr:only-child th {\n",
       "        text-align: right;\n",
       "    }\n",
       "\n",
       "    .dataframe thead th {\n",
       "        text-align: left;\n",
       "    }\n",
       "\n",
       "    .dataframe tbody tr th {\n",
       "        vertical-align: top;\n",
       "    }\n",
       "</style>\n",
       "<table border=\"1\" class=\"dataframe\">\n",
       "  <thead>\n",
       "    <tr style=\"text-align: right;\">\n",
       "      <th></th>\n",
       "      <th>university</th>\n",
       "      <th>faculty_student_ratio</th>\n",
       "    </tr>\n",
       "    <tr>\n",
       "      <th>country</th>\n",
       "      <th></th>\n",
       "      <th></th>\n",
       "    </tr>\n",
       "  </thead>\n",
       "  <tbody>\n",
       "    <tr>\n",
       "      <th>Australia</th>\n",
       "      <td>University of Queensland</td>\n",
       "      <td>35.7</td>\n",
       "    </tr>\n",
       "    <tr>\n",
       "      <th>Austria</th>\n",
       "      <td>University of Vienna</td>\n",
       "      <td>20.8</td>\n",
       "    </tr>\n",
       "    <tr>\n",
       "      <th>Belgium</th>\n",
       "      <td>Université Libre de Bruxelles</td>\n",
       "      <td>43.4</td>\n",
       "    </tr>\n",
       "    <tr>\n",
       "      <th>Canada</th>\n",
       "      <td>McMaster University</td>\n",
       "      <td>24.7</td>\n",
       "    </tr>\n",
       "    <tr>\n",
       "      <th>China</th>\n",
       "      <td>Nanjing University</td>\n",
       "      <td>14.2</td>\n",
       "    </tr>\n",
       "  </tbody>\n",
       "</table>\n",
       "</div>"
      ],
      "text/plain": [
       "                              university  faculty_student_ratio\n",
       "country                                                        \n",
       "Australia       University of Queensland                   35.7\n",
       "Austria             University of Vienna                   20.8\n",
       "Belgium    Université Libre de Bruxelles                   43.4\n",
       "Canada               McMaster University                   24.7\n",
       "China                 Nanjing University                   14.2"
      ]
     },
     "execution_count": 29,
     "metadata": {},
     "output_type": "execute_result"
    }
   ],
   "source": [
    "times_fsratios_country_df = get_best_ratios_by_group(times_df, 'country', 'faculty_student_ratio')\n",
    "times_fsratios_country_df.head()"
   ]
  },
  {
   "cell_type": "markdown",
   "metadata": {},
   "source": [
    "#### Best international/local student ratio per country"
   ]
  },
  {
   "cell_type": "code",
   "execution_count": 30,
   "metadata": {},
   "outputs": [
    {
     "data": {
      "text/html": [
       "<div>\n",
       "<style>\n",
       "    .dataframe thead tr:only-child th {\n",
       "        text-align: right;\n",
       "    }\n",
       "\n",
       "    .dataframe thead th {\n",
       "        text-align: left;\n",
       "    }\n",
       "\n",
       "    .dataframe tbody tr th {\n",
       "        vertical-align: top;\n",
       "    }\n",
       "</style>\n",
       "<table border=\"1\" class=\"dataframe\">\n",
       "  <thead>\n",
       "    <tr style=\"text-align: right;\">\n",
       "      <th></th>\n",
       "      <th>university</th>\n",
       "      <th>international_local_student_ratio</th>\n",
       "    </tr>\n",
       "    <tr>\n",
       "      <th>country</th>\n",
       "      <th></th>\n",
       "      <th></th>\n",
       "    </tr>\n",
       "  </thead>\n",
       "  <tbody>\n",
       "    <tr>\n",
       "      <th>Australia</th>\n",
       "      <td>University of Melbourne</td>\n",
       "      <td>40.0</td>\n",
       "    </tr>\n",
       "    <tr>\n",
       "      <th>Austria</th>\n",
       "      <td>University of Vienna</td>\n",
       "      <td>26.0</td>\n",
       "    </tr>\n",
       "    <tr>\n",
       "      <th>Belgium</th>\n",
       "      <td>Université Libre de Bruxelles</td>\n",
       "      <td>35.0</td>\n",
       "    </tr>\n",
       "    <tr>\n",
       "      <th>Canada</th>\n",
       "      <td>University of British Columbia</td>\n",
       "      <td>29.0</td>\n",
       "    </tr>\n",
       "    <tr>\n",
       "      <th>China</th>\n",
       "      <td>Peking University</td>\n",
       "      <td>16.0</td>\n",
       "    </tr>\n",
       "  </tbody>\n",
       "</table>\n",
       "</div>"
      ],
      "text/plain": [
       "                               university  international_local_student_ratio\n",
       "country                                                                     \n",
       "Australia         University of Melbourne                               40.0\n",
       "Austria              University of Vienna                               26.0\n",
       "Belgium     Université Libre de Bruxelles                               35.0\n",
       "Canada     University of British Columbia                               29.0\n",
       "China                   Peking University                               16.0"
      ]
     },
     "execution_count": 30,
     "metadata": {},
     "output_type": "execute_result"
    }
   ],
   "source": [
    "times_ilratios_country_df = get_best_ratios_by_group(times_df, 'country', 'international_local_student_ratio')\n",
    "times_ilratios_country_df.head()"
   ]
  },
  {
   "cell_type": "markdown",
   "metadata": {},
   "source": [
    "#### Number of universities in the top-200 per country"
   ]
  },
  {
   "cell_type": "code",
   "execution_count": 31,
   "metadata": {},
   "outputs": [
    {
     "data": {
      "text/html": [
       "<div>\n",
       "<style>\n",
       "    .dataframe thead tr:only-child th {\n",
       "        text-align: right;\n",
       "    }\n",
       "\n",
       "    .dataframe thead th {\n",
       "        text-align: left;\n",
       "    }\n",
       "\n",
       "    .dataframe tbody tr th {\n",
       "        vertical-align: top;\n",
       "    }\n",
       "</style>\n",
       "<table border=\"1\" class=\"dataframe\">\n",
       "  <thead>\n",
       "    <tr style=\"text-align: right;\">\n",
       "      <th></th>\n",
       "      <th>universities</th>\n",
       "    </tr>\n",
       "    <tr>\n",
       "      <th>country</th>\n",
       "      <th></th>\n",
       "    </tr>\n",
       "  </thead>\n",
       "  <tbody>\n",
       "    <tr>\n",
       "      <th>United States</th>\n",
       "      <td>62</td>\n",
       "    </tr>\n",
       "    <tr>\n",
       "      <th>United Kingdom</th>\n",
       "      <td>31</td>\n",
       "    </tr>\n",
       "    <tr>\n",
       "      <th>Germany</th>\n",
       "      <td>20</td>\n",
       "    </tr>\n",
       "    <tr>\n",
       "      <th>Netherlands</th>\n",
       "      <td>13</td>\n",
       "    </tr>\n",
       "    <tr>\n",
       "      <th>Australia</th>\n",
       "      <td>8</td>\n",
       "    </tr>\n",
       "  </tbody>\n",
       "</table>\n",
       "</div>"
      ],
      "text/plain": [
       "                universities\n",
       "country                     \n",
       "United States             62\n",
       "United Kingdom            31\n",
       "Germany                   20\n",
       "Netherlands               13\n",
       "Australia                  8"
      ]
     },
     "execution_count": 31,
     "metadata": {},
     "output_type": "execute_result"
    }
   ],
   "source": [
    "times_univ_per_country = univ_per_group(times_df, 'country')\n",
    "times_univ_per_country.head()"
   ]
  },
  {
   "cell_type": "markdown",
   "metadata": {},
   "source": [
    "### 7. Group by region"
   ]
  },
  {
   "cell_type": "code",
   "execution_count": 32,
   "metadata": {},
   "outputs": [],
   "source": [
    "#First we need to get the regions for the Times dataframe\n",
    "#We extract the unique (country, region) pairs\n",
    "country_region_df = top_df[['country', 'region']].drop_duplicates()\n",
    "#Then we match every country in the times_df with their associated region\n",
    "times_df = times_df.join(country_region_df.set_index('country'), on='country')\n",
    "# Add manually 'Europe' to the region field of the only Luxembourg university \n",
    "#as it is the only NaN \n",
    "times_df.at[times_df['country'] == 'Luxembourg', 'region'] = 'Europe'"
   ]
  },
  {
   "cell_type": "markdown",
   "metadata": {},
   "source": [
    "#### Best faculty/student ratio per region"
   ]
  },
  {
   "cell_type": "code",
   "execution_count": 33,
   "metadata": {},
   "outputs": [
    {
     "data": {
      "text/html": [
       "<div>\n",
       "<style>\n",
       "    .dataframe thead tr:only-child th {\n",
       "        text-align: right;\n",
       "    }\n",
       "\n",
       "    .dataframe thead th {\n",
       "        text-align: left;\n",
       "    }\n",
       "\n",
       "    .dataframe tbody tr th {\n",
       "        vertical-align: top;\n",
       "    }\n",
       "</style>\n",
       "<table border=\"1\" class=\"dataframe\">\n",
       "  <thead>\n",
       "    <tr style=\"text-align: right;\">\n",
       "      <th></th>\n",
       "      <th>university</th>\n",
       "      <th>faculty_student_ratio</th>\n",
       "    </tr>\n",
       "    <tr>\n",
       "      <th>region</th>\n",
       "      <th></th>\n",
       "      <th></th>\n",
       "    </tr>\n",
       "  </thead>\n",
       "  <tbody>\n",
       "    <tr>\n",
       "      <th>Africa</th>\n",
       "      <td>University of Cape Town</td>\n",
       "      <td>11.7</td>\n",
       "    </tr>\n",
       "    <tr>\n",
       "      <th>Asia</th>\n",
       "      <td>Hong Kong Polytechnic University</td>\n",
       "      <td>26.9</td>\n",
       "    </tr>\n",
       "    <tr>\n",
       "      <th>Europe</th>\n",
       "      <td>University of Bonn</td>\n",
       "      <td>77.9</td>\n",
       "    </tr>\n",
       "    <tr>\n",
       "      <th>North America</th>\n",
       "      <td>University of California, Santa Barbara</td>\n",
       "      <td>28.1</td>\n",
       "    </tr>\n",
       "    <tr>\n",
       "      <th>Oceania</th>\n",
       "      <td>University of Queensland</td>\n",
       "      <td>35.7</td>\n",
       "    </tr>\n",
       "  </tbody>\n",
       "</table>\n",
       "</div>"
      ],
      "text/plain": [
       "                                            university  faculty_student_ratio\n",
       "region                                                                       \n",
       "Africa                         University of Cape Town                   11.7\n",
       "Asia                  Hong Kong Polytechnic University                   26.9\n",
       "Europe                              University of Bonn                   77.9\n",
       "North America  University of California, Santa Barbara                   28.1\n",
       "Oceania                       University of Queensland                   35.7"
      ]
     },
     "execution_count": 33,
     "metadata": {},
     "output_type": "execute_result"
    }
   ],
   "source": [
    "times_fsratios_region_df = get_best_ratios_by_group(times_df, 'region', 'faculty_student_ratio')\n",
    "times_fsratios_region_df"
   ]
  },
  {
   "cell_type": "markdown",
   "metadata": {},
   "source": [
    "#### Best international/local student ratio per region"
   ]
  },
  {
   "cell_type": "code",
   "execution_count": 34,
   "metadata": {},
   "outputs": [
    {
     "data": {
      "text/html": [
       "<div>\n",
       "<style>\n",
       "    .dataframe thead tr:only-child th {\n",
       "        text-align: right;\n",
       "    }\n",
       "\n",
       "    .dataframe thead th {\n",
       "        text-align: left;\n",
       "    }\n",
       "\n",
       "    .dataframe tbody tr th {\n",
       "        vertical-align: top;\n",
       "    }\n",
       "</style>\n",
       "<table border=\"1\" class=\"dataframe\">\n",
       "  <thead>\n",
       "    <tr style=\"text-align: right;\">\n",
       "      <th></th>\n",
       "      <th>university</th>\n",
       "      <th>international_local_student_ratio</th>\n",
       "    </tr>\n",
       "    <tr>\n",
       "      <th>region</th>\n",
       "      <th></th>\n",
       "      <th></th>\n",
       "    </tr>\n",
       "  </thead>\n",
       "  <tbody>\n",
       "    <tr>\n",
       "      <th>Africa</th>\n",
       "      <td>University of Cape Town</td>\n",
       "      <td>18.0</td>\n",
       "    </tr>\n",
       "    <tr>\n",
       "      <th>Asia</th>\n",
       "      <td>University of Hong Kong</td>\n",
       "      <td>42.0</td>\n",
       "    </tr>\n",
       "    <tr>\n",
       "      <th>Europe</th>\n",
       "      <td>London School of Economics and Political Science</td>\n",
       "      <td>71.0</td>\n",
       "    </tr>\n",
       "    <tr>\n",
       "      <th>North America</th>\n",
       "      <td>Carnegie Mellon University</td>\n",
       "      <td>45.0</td>\n",
       "    </tr>\n",
       "    <tr>\n",
       "      <th>Oceania</th>\n",
       "      <td>University of Melbourne</td>\n",
       "      <td>40.0</td>\n",
       "    </tr>\n",
       "  </tbody>\n",
       "</table>\n",
       "</div>"
      ],
      "text/plain": [
       "                                                     university  \\\n",
       "region                                                            \n",
       "Africa                                  University of Cape Town   \n",
       "Asia                                    University of Hong Kong   \n",
       "Europe         London School of Economics and Political Science   \n",
       "North America                        Carnegie Mellon University   \n",
       "Oceania                                 University of Melbourne   \n",
       "\n",
       "               international_local_student_ratio  \n",
       "region                                            \n",
       "Africa                                      18.0  \n",
       "Asia                                        42.0  \n",
       "Europe                                      71.0  \n",
       "North America                               45.0  \n",
       "Oceania                                     40.0  "
      ]
     },
     "execution_count": 34,
     "metadata": {},
     "output_type": "execute_result"
    }
   ],
   "source": [
    "times_ilratios_region_df = get_best_ratios_by_group(times_df, 'region', 'international_local_student_ratio')\n",
    "times_ilratios_region_df"
   ]
  },
  {
   "cell_type": "markdown",
   "metadata": {},
   "source": [
    "#### Number of universities in the top-200 per region"
   ]
  },
  {
   "cell_type": "code",
   "execution_count": 35,
   "metadata": {},
   "outputs": [
    {
     "data": {
      "text/html": [
       "<div>\n",
       "<style>\n",
       "    .dataframe thead tr:only-child th {\n",
       "        text-align: right;\n",
       "    }\n",
       "\n",
       "    .dataframe thead th {\n",
       "        text-align: left;\n",
       "    }\n",
       "\n",
       "    .dataframe tbody tr th {\n",
       "        vertical-align: top;\n",
       "    }\n",
       "</style>\n",
       "<table border=\"1\" class=\"dataframe\">\n",
       "  <thead>\n",
       "    <tr style=\"text-align: right;\">\n",
       "      <th></th>\n",
       "      <th>universities</th>\n",
       "    </tr>\n",
       "    <tr>\n",
       "      <th>region</th>\n",
       "      <th></th>\n",
       "    </tr>\n",
       "  </thead>\n",
       "  <tbody>\n",
       "    <tr>\n",
       "      <th>Europe</th>\n",
       "      <td>101</td>\n",
       "    </tr>\n",
       "    <tr>\n",
       "      <th>North America</th>\n",
       "      <td>68</td>\n",
       "    </tr>\n",
       "    <tr>\n",
       "      <th>Asia</th>\n",
       "      <td>21</td>\n",
       "    </tr>\n",
       "    <tr>\n",
       "      <th>Oceania</th>\n",
       "      <td>9</td>\n",
       "    </tr>\n",
       "    <tr>\n",
       "      <th>Africa</th>\n",
       "      <td>1</td>\n",
       "    </tr>\n",
       "  </tbody>\n",
       "</table>\n",
       "</div>"
      ],
      "text/plain": [
       "               universities\n",
       "region                     \n",
       "Europe                  101\n",
       "North America            68\n",
       "Asia                     21\n",
       "Oceania                   9\n",
       "Africa                    1"
      ]
     },
     "execution_count": 35,
     "metadata": {},
     "output_type": "execute_result"
    }
   ],
   "source": [
    "times_univ_per_region = univ_per_group(times_df, 'region')\n",
    "times_univ_per_region"
   ]
  },
  {
   "cell_type": "markdown",
   "metadata": {},
   "source": [
    "### 8. Visualise and describe"
   ]
  },
  {
   "cell_type": "code",
   "execution_count": 36,
   "metadata": {},
   "outputs": [
    {
     "data": {
      "image/png": "[encoded data removed]",
      "text/plain": [
       "<matplotlib.figure.Figure at 0x1121fbe10>"
      ]
     },
     "metadata": {},
     "output_type": "display_data"
    }
   ],
   "source": [
    "#We decide to plot the number of university having the ratios in bins of 5 (either fs or il)\n",
    "fig = plt.figure(1)\n",
    "fig.set_size_inches(12, 2.5)\n",
    "\n",
    "plt.subplot(121)\n",
    "plt.hist(times_df['faculty_student_ratio'],bins=range(0,80, 5))\n",
    "plt.xlabel('Faculty/student ratio')\n",
    "plt.ylabel('Number of universities')\n",
    "plt.yticks(range(0,120,10))\n",
    "plt.title('Repartition of Faculty/Student ratio')\n",
    "\n",
    "plt.subplot(122)\n",
    "plt.hist(times_df['international_local_student_ratio'], bins=range(0,80, 5))\n",
    "plt.xlabel('International student %')\n",
    "plt.ylabel('Number of universities')\n",
    "plt.yticks(range(0, 120, 10))\n",
    "plt.title('Repartition of international student percentage')\n",
    "\n",
    "plt.subplots_adjust(top=1.5, bottom=0, left=0.10, right=0.95, hspace=0.25, wspace=0.35)\n",
    "plt.show()"
   ]
  },
  {
   "cell_type": "markdown",
   "metadata": {},
   "source": [
    "#### Analysis :\n",
    "Unlike the topuniversities ranking, the peak of Faculty/student ratio is higher, between 10 and 15. The tail is longer too, the maximum value is between 70 and 75. <br>\n",
    "About the percentage of international student, we are again commonly between 5 and 30%."
   ]
  },
  {
   "cell_type": "markdown",
   "metadata": {},
   "source": [
    "## THIRD PART : Unified dataframe\n",
    "In this part we will merge the 2 former dataframes into one. We must keep the ranking of both rankings and match regarding the university name."
   ]
  },
  {
   "cell_type": "markdown",
   "metadata": {},
   "source": [
    "First, in order to keep the ranks and ratios of both websites, we attach the prefix \"top\" for the data from topuniversities website and \"times\" for the timeshighereducation website. <br>\n",
    "Then we have the lists of universities which appear in only one ranking. Those lists are named 'drop_in' + the name of the ranking in which they appear. <br>"
   ]
  },
  {
   "cell_type": "code",
   "execution_count": 37,
   "metadata": {},
   "outputs": [],
   "source": [
    "tmp_top_df = top_df.rename(columns = {'rank' : 'top_rank', \n",
    "                                      'faculty_student_ratio' : 'top_fs_ratio',\n",
    "                                     'international_local_student_ratio': 'top_il_ratio'})\n",
    "tmp_times_df = times_df.rename(columns = {'rank' : 'times_rank', \n",
    "                                      'faculty_student_ratio' : 'times_fs_ratio',\n",
    "                                     'international_local_student_ratio': 'times_il_ratio'})"
   ]
  },
  {
   "cell_type": "code",
   "execution_count": 38,
   "metadata": {},
   "outputs": [],
   "source": [
    "drop_from_top = ['Hanyang University'\n",
    ", 'University College Dublin'\n",
    ", 'Universidad de Chile'\n",
    ", 'University of Bergen'\n",
    ", 'Alma Mater Studiorum - University of Bologna'\n",
    ", 'The Hebrew University of Jerusalem'\n",
    ", 'Chalmers University of Technology'\n",
    ", 'Tokyo Institute of Technology'\n",
    ", 'Vienna University of Technology'\n",
    ", 'Indian Institute of Technology Bombay (IITB)'\n",
    ", 'Politecnico di Milano'\n",
    ", 'CentraleSupélec'\n",
    ", 'Indian Institute of Science (IISc) Bangalore'\n",
    ", 'Vrije Universiteit Brussel (VUB)'\n",
    ", 'Yonsei University'\n",
    ", 'University of Otago'\n",
    ", 'King Fahd University of Petroleum & Minerals'\n",
    ", 'Ludwig-Maximilians-Universität München'\n",
    ", 'Universidad Nacional Autónoma de México  (UNAM)'\n",
    ", 'Universidade de São Paulo'\n",
    ", 'Tohoku University'\n",
    ", 'Universidad de Buenos Aires (UBA)'\n",
    ", 'Kyushu University'\n",
    ", 'Pontificia Universidad Católica de Chile (UC)'\n",
    ", 'Universidad Autónoma de Madrid'\n",
    ", 'Nagoya University'\n",
    ", 'Universiti Malaya (UM)'\n",
    ", 'University of Technology Sydney'\n",
    ", 'Hokkaido University'\n",
    ", 'Osaka University'\n",
    ", 'Korea University'\n",
    ", 'University of Reading'\n",
    ", 'Ecole normale supérieure, Paris'\n",
    ", 'Instituto Tecnológico y de Estudios Superiores de Monterrey'\n",
    ", 'University of Bath'\n",
    ", 'Universidade Estadual de Campinas (Unicamp)'\n",
    ", 'University of Waterloo'\n",
    ", 'Keio University CEMS MIM'\n",
    ", 'Indian Institute of Technology Delhi (IITD)'\n",
    ", 'National Tsing Hua University'\n",
    ", 'Universitat de Barcelona']"
   ]
  },
  {
   "cell_type": "code",
   "execution_count": 39,
   "metadata": {},
   "outputs": [],
   "source": [
    "drop_from_times = ['University of Erlangen-Nuremberg'\n",
    ", 'University of Mannheim'\n",
    ", 'Rutgers, the State University of New Jersey'\n",
    ", 'University of Würzburg'\n",
    ", 'Vrije Universiteit Amsterdam'\n",
    ", 'University of California, Santa Cruz'\n",
    ", 'University of Dundee'\n",
    ", 'Georgetown University'\n",
    ", 'University of Leicester'\n",
    ", 'University of Bonn'\n",
    ", 'Paris-Sorbonne University – Paris 4'\n",
    ", 'Case Western Reserve University'\n",
    ", 'University of Miami'\n",
    ", 'University of Luxembourg'\n",
    ", 'Paris Sciences et Lettres – PSL Research University Paris'\n",
    ", 'University of California, Riverside'\n",
    ", 'Vanderbilt University'\n",
    ", 'University of Notre Dame'\n",
    ", 'Paris-Sud University'\n",
    ", 'Pompeu Fabra University'\n",
    ", 'Université Libre de Bruxelles'\n",
    ", 'University of East Anglia'\n",
    ", 'Tufts University'\n",
    ", 'Radboud University Nijmegen'\n",
    ", 'New York University'\n",
    ", 'Indiana University'\n",
    ", 'Charité - Universitätsmedizin Berlin'\n",
    ", 'University of Massachusetts'\n",
    ", 'University of Arizona'\n",
    ", 'University of Sussex'\n",
    ", 'Arizona State University'\n",
    ", 'University of Cologne'\n",
    ", 'University of Alabama at Birmingham'\n",
    ", 'Royal Holloway, University of London'\n",
    ", 'TU Dresden'\n",
    ", 'Tilburg University'\n",
    ", 'University of Gothenburg'\n",
    ", 'Karolinska Institute'\n",
    ", 'LMU Munich'\n",
    ", 'Ulm University'\n",
    ", 'Northeastern University'\n",
    ", 'University of Münster']"
   ]
  },
  {
   "cell_type": "markdown",
   "metadata": {},
   "source": [
    "For a better merge we noticed that we should remove the abbreviations in parenthesis. <br>\n",
    "Moreover we should remove the \"The \" prefix as multiple times \"The University of ...\" is in the other ranking as \"University of ...\""
   ]
  },
  {
   "cell_type": "code",
   "execution_count": 40,
   "metadata": {},
   "outputs": [
    {
     "name": "stdout",
     "output_type": "stream",
     "text": [
      "Do we have the same number of universities :  True\n",
      "This number is :  158\n"
     ]
    }
   ],
   "source": [
    "for univ in drop_from_top:\n",
    "    tmp_top_df = tmp_top_df[tmp_top_df['university'] != univ]\n",
    "for univ2 in drop_from_times:\n",
    "    tmp_times_df = tmp_times_df[tmp_times_df['university'] != univ2]\n",
    "print(\"Do we have the same number of universities : \", (len(tmp_top_df) == len(tmp_times_df)))\n",
    "print(\"This number is : \", len(tmp_top_df))"
   ]
  },
  {
   "cell_type": "code",
   "execution_count": 41,
   "metadata": {},
   "outputs": [],
   "source": [
    "def parse_string(s):\n",
    "    res = s\n",
    "    #Some strings don't have any parenthesis or the prefix. We need to handle the exceptions\n",
    "    try:\n",
    "        index = s.index('(')\n",
    "        #We determine the length of the substring to delete\n",
    "        length_to_delete = len(s) - index\n",
    "        #If the length_to_delete is greater than the position where we delete,\n",
    "        #it means that we first have the abbreviation and then full name in parenthesis,\n",
    "        #we want to keep the full name\n",
    "        if length_to_delete > index:\n",
    "            res = s[index+1: len(s)-1]\n",
    "        else :\n",
    "        #Here we have the abbreviation in parenthesis and we delete if with the preceding space\n",
    "            res = s.replace(s[index -1:], '')\n",
    "        #Now we delete the prefix if the string also contains it\n",
    "        res = res.replace('The ', '')\n",
    "        return res\n",
    "    except ValueError:\n",
    "        try:\n",
    "            #This is the case where we only have the prefix to delete\n",
    "            res = res.replace('The ', '')\n",
    "            return res\n",
    "        except ValueError:\n",
    "            #This is the case where the string is not modified\n",
    "            return res"
   ]
  },
  {
   "cell_type": "markdown",
   "metadata": {},
   "source": [
    "Some ranks are similar and are indicated by the equality symbol '=', we want to remove the symbol and convert the ranking from string to int (especially for the FIFTH PART of the homework)"
   ]
  },
  {
   "cell_type": "code",
   "execution_count": 42,
   "metadata": {},
   "outputs": [],
   "source": [
    "def remove_equality(s):\n",
    "    res = s.replace(\"=\", \"\")\n",
    "    return int(res)"
   ]
  },
  {
   "cell_type": "code",
   "execution_count": 43,
   "metadata": {},
   "outputs": [],
   "source": [
    "tmp_top_df['university'] = tmp_top_df['university'].map(lambda s : parse_string(s))\n",
    "tmp_times_df['university'] = tmp_times_df['university'].map(lambda s : parse_string(s))\n",
    "tmp_top_df['top_rank'] = tmp_top_df['top_rank'].map(lambda s : remove_equality(s))\n",
    "tmp_times_df['times_rank'] = tmp_times_df['times_rank'].map(lambda s : remove_equality(s))"
   ]
  },
  {
   "cell_type": "code",
   "execution_count": 44,
   "metadata": {},
   "outputs": [],
   "source": [
    "top = list(tmp_top_df['university'])\n",
    "times = list(tmp_times_df['university'])"
   ]
  },
  {
   "cell_type": "markdown",
   "metadata": {},
   "source": [
    "Now we see that we have 22 universities that have small differences in their names. <br>\n",
    "We sort each list to help us make the permutations indices. Once we have them, we will go through all the universities in the top dataframe and change the university name to the one in times dataframe."
   ]
  },
  {
   "cell_type": "code",
   "execution_count": 45,
   "metadata": {},
   "outputs": [
    {
     "name": "stdout",
     "output_type": "stream",
     "text": [
      "Do we have the same number of universities to match :  True\n",
      "This number is :  22\n"
     ]
    }
   ],
   "source": [
    "appear_only_in_top = [x for x in top if x not in times]\n",
    "appear_only_in_times = [x for x in times if x not in top]\n",
    "appear_only_in_top.sort()\n",
    "appear_only_in_times.sort()\n",
    "print(\"Do we have the same number of universities to match : \", len(top) == len(times))\n",
    "print(\"This number is : \", len(appear_only_in_top))"
   ]
  },
  {
   "cell_type": "code",
   "execution_count": 46,
   "metadata": {},
   "outputs": [],
   "source": [
    "permutation_indices = [13,1,16,20,21,2,4,7,5,6,9,3,10,11,12,0,15,8,17,14,18,19]"
   ]
  },
  {
   "cell_type": "code",
   "execution_count": 47,
   "metadata": {},
   "outputs": [],
   "source": [
    "for i in range(len(appear_only_in_top)):\n",
    "    current_name = appear_only_in_top[i]\n",
    "    change_to = appear_only_in_times[permutation_indices[i]]\n",
    "    tmp_top_df.at[tmp_top_df['university'] == current_name, 'university'] = change_to"
   ]
  },
  {
   "cell_type": "markdown",
   "metadata": {},
   "source": [
    "Now that we have all correct matching names, we can do the merging and reorder the columns"
   ]
  },
  {
   "cell_type": "code",
   "execution_count": 48,
   "metadata": {},
   "outputs": [],
   "source": [
    "university_df = tmp_top_df.join(tmp_times_df.set_index(['university', 'country', 'region']),\n",
    "                                on=['university', 'country', 'region'])"
   ]
  },
  {
   "cell_type": "code",
   "execution_count": 49,
   "metadata": {},
   "outputs": [
    {
     "data": {
      "text/html": [
       "<div>\n",
       "<style>\n",
       "    .dataframe thead tr:only-child th {\n",
       "        text-align: right;\n",
       "    }\n",
       "\n",
       "    .dataframe thead th {\n",
       "        text-align: left;\n",
       "    }\n",
       "\n",
       "    .dataframe tbody tr th {\n",
       "        vertical-align: top;\n",
       "    }\n",
       "</style>\n",
       "<table border=\"1\" class=\"dataframe\">\n",
       "  <thead>\n",
       "    <tr style=\"text-align: right;\">\n",
       "      <th></th>\n",
       "      <th>university</th>\n",
       "      <th>region</th>\n",
       "      <th>country</th>\n",
       "      <th>top_rank</th>\n",
       "      <th>times_rank</th>\n",
       "      <th>top_fs_ratio</th>\n",
       "      <th>times_fs_ratio</th>\n",
       "      <th>top_il_ratio</th>\n",
       "      <th>times_il_ratio</th>\n",
       "    </tr>\n",
       "  </thead>\n",
       "  <tbody>\n",
       "    <tr>\n",
       "      <th>0</th>\n",
       "      <td>Massachusetts Institute of Technology</td>\n",
       "      <td>North America</td>\n",
       "      <td>United States</td>\n",
       "      <td>1</td>\n",
       "      <td>5</td>\n",
       "      <td>3.71</td>\n",
       "      <td>8.7</td>\n",
       "      <td>33.59</td>\n",
       "      <td>34.0</td>\n",
       "    </tr>\n",
       "    <tr>\n",
       "      <th>1</th>\n",
       "      <td>Stanford University</td>\n",
       "      <td>North America</td>\n",
       "      <td>United States</td>\n",
       "      <td>2</td>\n",
       "      <td>3</td>\n",
       "      <td>3.71</td>\n",
       "      <td>7.5</td>\n",
       "      <td>22.74</td>\n",
       "      <td>22.0</td>\n",
       "    </tr>\n",
       "    <tr>\n",
       "      <th>2</th>\n",
       "      <td>Harvard University</td>\n",
       "      <td>North America</td>\n",
       "      <td>United States</td>\n",
       "      <td>3</td>\n",
       "      <td>6</td>\n",
       "      <td>5.16</td>\n",
       "      <td>8.9</td>\n",
       "      <td>23.48</td>\n",
       "      <td>26.0</td>\n",
       "    </tr>\n",
       "    <tr>\n",
       "      <th>3</th>\n",
       "      <td>California Institute of Technology</td>\n",
       "      <td>North America</td>\n",
       "      <td>United States</td>\n",
       "      <td>4</td>\n",
       "      <td>3</td>\n",
       "      <td>2.37</td>\n",
       "      <td>6.5</td>\n",
       "      <td>28.69</td>\n",
       "      <td>27.0</td>\n",
       "    </tr>\n",
       "    <tr>\n",
       "      <th>4</th>\n",
       "      <td>University of Cambridge</td>\n",
       "      <td>Europe</td>\n",
       "      <td>United Kingdom</td>\n",
       "      <td>5</td>\n",
       "      <td>2</td>\n",
       "      <td>3.42</td>\n",
       "      <td>10.9</td>\n",
       "      <td>35.69</td>\n",
       "      <td>35.0</td>\n",
       "    </tr>\n",
       "  </tbody>\n",
       "</table>\n",
       "</div>"
      ],
      "text/plain": [
       "                              university         region         country  \\\n",
       "0  Massachusetts Institute of Technology  North America   United States   \n",
       "1                    Stanford University  North America   United States   \n",
       "2                     Harvard University  North America   United States   \n",
       "3     California Institute of Technology  North America   United States   \n",
       "4                University of Cambridge         Europe  United Kingdom   \n",
       "\n",
       "   top_rank  times_rank  top_fs_ratio  times_fs_ratio  top_il_ratio  \\\n",
       "0         1           5          3.71             8.7         33.59   \n",
       "1         2           3          3.71             7.5         22.74   \n",
       "2         3           6          5.16             8.9         23.48   \n",
       "3         4           3          2.37             6.5         28.69   \n",
       "4         5           2          3.42            10.9         35.69   \n",
       "\n",
       "   times_il_ratio  \n",
       "0            34.0  \n",
       "1            22.0  \n",
       "2            26.0  \n",
       "3            27.0  \n",
       "4            35.0  "
      ]
     },
     "execution_count": 49,
     "metadata": {},
     "output_type": "execute_result"
    }
   ],
   "source": [
    "### Reorder columns\n",
    "university_df = university_df[['university', 'region', 'country', 'top_rank','times_rank', 'top_fs_ratio', 'times_fs_ratio', 'top_il_ratio', 'times_il_ratio']]\n",
    "university_df.head()"
   ]
  },
  {
   "cell_type": "markdown",
   "metadata": {},
   "source": [
    "## FOURTH PART : Exploratory Analysis\n",
    "Look for correlations between variables"
   ]
  },
  {
   "cell_type": "code",
   "execution_count": 50,
   "metadata": {},
   "outputs": [
    {
     "data": {
      "image/png": "[encoded data removed]",
      "text/plain": [
       "<matplotlib.figure.Figure at 0x1121d0eb8>"
      ]
     },
     "metadata": {},
     "output_type": "display_data"
    }
   ],
   "source": [
    "### Display repartition of universities per regions in a pie chart\n",
    "\n",
    "univ_per_regions = univ_per_group(university_df, 'region')\n",
    "regions = univ_per_regions.index\n",
    "universities = univ_per_regions['universities']\n",
    "\n",
    "plt.pie(universities, labels=regions, shadow=True, radius=5, autopct='%.2f')\n",
    "plt.axis('equal')\n",
    "plt.title('Repartition of universities from the merged dataframe by region')\n",
    "\n",
    "plt.show()"
   ]
  },
  {
   "cell_type": "markdown",
   "metadata": {},
   "source": [
    "From the plot, we see that the best universities (appearing both in Times and Top Universities) are mostly located in developed regions of the world: Europe, North America, Oceania (universities from Australia and New Zealand)"
   ]
  },
  {
   "cell_type": "code",
   "execution_count": 51,
   "metadata": {},
   "outputs": [
    {
     "name": "stdout",
     "output_type": "stream",
     "text": [
      "TopUniversities data are in green while TimesHigherEducation's are in blue\n"
     ]
    },
    {
     "data": {
      "image/png": "[encoded data removed]",
      "text/plain": [
       "<matplotlib.figure.Figure at 0x111bcbbe0>"
      ]
     },
     "metadata": {},
     "output_type": "display_data"
    }
   ],
   "source": [
    "top_rank = university_df['top_rank']\n",
    "top_fs_ratio = university_df['top_fs_ratio']\n",
    "top_il_ratio = university_df['top_il_ratio']\n",
    "times_rank = university_df['times_rank']\n",
    "times_fs_ratio = university_df['times_fs_ratio']\n",
    "times_il_ratio = university_df['times_il_ratio']\n",
    "\n",
    "fig = plt.figure(1)\n",
    "fig.set_size_inches(20,12)\n",
    "\n",
    "plt.subplot(221)\n",
    "plt.plot(top_rank.values, top_fs_ratio.values, 'ro', color = 'g')\n",
    "plt.title('Correlation between rank and faculty/student ratio')\n",
    "plt.xlabel('Rank')\n",
    "plt.ylabel('faculty/student ratio')\n",
    "plt.gca().set_ylim([0,70])\n",
    "x1 = np.linspace(0,200,200)\n",
    "y1 = 10 - pow(10, (1-(x1/30)))\n",
    "plt.plot(x1,y1, color='red')\n",
    "\n",
    "plt.subplot(222)\n",
    "plt.plot(top_rank.values, top_il_ratio.values, 'ro', color = 'g')\n",
    "plt.title('Correlation between rank and international student ratio')\n",
    "plt.xlabel('Rank')\n",
    "plt.ylabel('international student ratio')\n",
    "plt.plot(x1, 10+pow(x1-175, 2)/1000, color='r')\n",
    "\n",
    "plt.subplot(223)\n",
    "plt.plot(times_rank.values, times_fs_ratio.values, 'ro', color = 'b')\n",
    "plt.title('Correlation between rank and faculty/student ratio')\n",
    "plt.xlabel('Rank')\n",
    "plt.ylabel('faculty/student ratio')\n",
    "plt.gca().set_ylim([0,70])\n",
    "y3 = 13 - pow(13, (1-(x1/30)))\n",
    "plt.plot(x1, y3, color='red')\n",
    "\n",
    "plt.subplot(224)\n",
    "plt.plot(times_rank.values, times_il_ratio.values, 'ro', color='b')\n",
    "plt.title('Correlation between rank and international student ratio')\n",
    "plt.xlabel('Rank')\n",
    "plt.ylabel('international student ratio')\n",
    "plt.plot(x1, 5+pow(x1-150, 2)/1000, color='r')\n",
    "\n",
    "\n",
    "print('TopUniversities data are in green while TimesHigherEducation\\'s are in blue')\n",
    "plt.show()"
   ]
  },
  {
   "cell_type": "markdown",
   "metadata": {},
   "source": [
    "Those graphs represents the eventual correlations existing between the rank of an university and the different ratios. The red curves are arbitrary and just here to show the general behaviour of the points' distributions since it's not very clear and obvious.\n",
    "From those graphs we can make two observations: \n",
    "1. The faculty/student ratio is not very much corrolated to the ranks except when this one is inferior to 25. At this point we see in both ranking that the ratio tends to fall down when arriving at the top of the rankings.\n",
    "2. The international student ratio on the contrary seems to go down with the ranking, even if its distribution is way more heterogeneous. Once more, one can see that when the rank is inferior to 25, the ratio tends to be higher than the usual.\n",
    "\n",
    "So now we can conclude on the correlations of the ratios with the rank of a university and use it in the next part to find the best university by using as criterions the rank, and the 2 ratios."
   ]
  },
  {
   "cell_type": "markdown",
   "metadata": {},
   "source": [
    "## FIFTH PART : Best university"
   ]
  },
  {
   "cell_type": "markdown",
   "metadata": {
    "collapsed": true
   },
   "source": [
    "We used the following criteria to choose \"our\" best university:\n",
    "\n",
    "    1. It must appear in both websites -> thus appear in the merged dataframe from PART THREE.\n",
    "    2. Its rank must be below 25 in both websites \n",
    "    3. The university must have a good international/local ratio (suggesting the reputation of the university is internationally known and students want to go there)\n",
    "    4. The university must have a small student/faculty ratio (suggesting there are an important number of faculty members to \"supervise\" the students)\n",
    "    \n",
    "For steps 3. and 4., we compute, for each university found in steps 1. and 2., the sum of international/local (I/L) ratio from both sites minus the sum of student/faculty (S/F) ratio from both sites: \n",
    "\n",
    "$$ ({I/L Ratio}_{times} + {I/L Ratio}_{topUniversities}) - ({S/F Ratio}_{times} + {S/F Ratio}_{topUniversities}) $$\n",
    "\n",
    "\n",
    "Finally we pick the university with the maximum of this calculus to be the best university "
   ]
  },
  {
   "cell_type": "code",
   "execution_count": 52,
   "metadata": {},
   "outputs": [
    {
     "name": "stdout",
     "output_type": "stream",
     "text": [
      "Best university (following our criteria and after EPFL obviously) is: \n"
     ]
    },
    {
     "name": "stderr",
     "output_type": "stream",
     "text": [
      "/Users/emma/anaconda3/lib/python3.5/site-packages/ipykernel/__main__.py:4: UserWarning: Boolean Series key will be reindexed to match DataFrame index.\n",
      "/Users/emma/anaconda3/lib/python3.5/site-packages/ipykernel/__main__.py:6: SettingWithCopyWarning: \n",
      "A value is trying to be set on a copy of a slice from a DataFrame.\n",
      "Try using .loc[row_indexer,col_indexer] = value instead\n",
      "\n",
      "See the caveats in the documentation: http://pandas.pydata.org/pandas-docs/stable/indexing.html#indexing-view-versus-copy\n"
     ]
    },
    {
     "data": {
      "text/plain": [
       "university    Imperial College London\n",
       "score                           93.87\n",
       "Name: 7, dtype: object"
      ]
     },
     "execution_count": 52,
     "metadata": {},
     "output_type": "execute_result"
    }
   ],
   "source": [
    "### Step 1 already done in PART THREE, we use university_df\n",
    "### Step 2\n",
    "top25_times_df = university_df[university_df['times_rank'] <= 25]\n",
    "top25_both_df = top25_times_df[university_df['top_rank'] <= 25]\n",
    "### Step 3 and 4\n",
    "top25_both_df['score'] = top25_both_df['top_il_ratio'] + top25_both_df['times_il_ratio'] - (top25_both_df['top_fs_ratio'] + top25_both_df['times_fs_ratio'])\n",
    "### Get university with maximum value\n",
    "best_university = top25_both_df.loc[top25_both_df['score'].idxmax()]\n",
    "print(\"Best university (following our criteria and after EPFL obviously) is: \")\n",
    "best_university[['university', 'score']]"
   ]
  }
 ],
 "metadata": {
  "anaconda-cloud": {},
  "kernelspec": {
   "display_name": "Python [default]",
   "language": "python",
   "name": "python3"
  },
  "language_info": {
   "codemirror_mode": {
    "name": "ipython",
    "version": 3
   },
   "file_extension": ".py",
   "mimetype": "text/x-python",
   "name": "python",
   "nbconvert_exporter": "python",
   "pygments_lexer": "ipython3",
   "version": "3.5.3"
  }
 },
 "nbformat": 4,
 "nbformat_minor": 2
}
