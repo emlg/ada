{
 "cells": [
  {
   "cell_type": "code",
   "execution_count": 1,
   "metadata": {},
   "outputs": [],
   "source": [
    "import pandas as pd\n",
    "import px_reader as px\n",
    "from helpers import *\n",
    "import matplotlib.pyplot as plt\n",
    "%matplotlib inline"
   ]
  },
  {
   "cell_type": "code",
   "execution_count": 30,
   "metadata": {
    "scrolled": true
   },
   "outputs": [
    {
     "data": {
      "text/html": [
       "<div>\n",
       "<style>\n",
       "    .dataframe thead tr:only-child th {\n",
       "        text-align: right;\n",
       "    }\n",
       "\n",
       "    .dataframe thead th {\n",
       "        text-align: left;\n",
       "    }\n",
       "\n",
       "    .dataframe tbody tr th {\n",
       "        vertical-align: top;\n",
       "    }\n",
       "</style>\n",
       "<table border=\"1\" class=\"dataframe\">\n",
       "  <thead>\n",
       "    <tr style=\"text-align: right;\">\n",
       "      <th></th>\n",
       "      <th></th>\n",
       "      <th></th>\n",
       "      <th>Moins de 15 ans</th>\n",
       "      <th>15-19 ans</th>\n",
       "      <th>20-24 ans</th>\n",
       "      <th>25-29 ans</th>\n",
       "      <th>30 ans ou plus</th>\n",
       "    </tr>\n",
       "    <tr>\n",
       "      <th>annee</th>\n",
       "      <th>region</th>\n",
       "      <th>sexe</th>\n",
       "      <th></th>\n",
       "      <th></th>\n",
       "      <th></th>\n",
       "      <th></th>\n",
       "      <th></th>\n",
       "    </tr>\n",
       "  </thead>\n",
       "  <tbody>\n",
       "    <tr>\n",
       "      <th rowspan=\"5\" valign=\"top\">2004</th>\n",
       "      <th rowspan=\"2\" valign=\"top\">Suisse</th>\n",
       "      <th>Homme</th>\n",
       "      <td>116</td>\n",
       "      <td>9599</td>\n",
       "      <td>8291</td>\n",
       "      <td>3635</td>\n",
       "      <td>1504</td>\n",
       "    </tr>\n",
       "    <tr>\n",
       "      <th>Femme</th>\n",
       "      <td>137</td>\n",
       "      <td>11896</td>\n",
       "      <td>9554</td>\n",
       "      <td>3146</td>\n",
       "      <td>1618</td>\n",
       "    </tr>\n",
       "    <tr>\n",
       "      <th rowspan=\"2\" valign=\"top\">Zurich</th>\n",
       "      <th>Homme</th>\n",
       "      <td>66</td>\n",
       "      <td>601</td>\n",
       "      <td>527</td>\n",
       "      <td>385</td>\n",
       "      <td>213</td>\n",
       "    </tr>\n",
       "    <tr>\n",
       "      <th>Femme</th>\n",
       "      <td>84</td>\n",
       "      <td>699</td>\n",
       "      <td>607</td>\n",
       "      <td>354</td>\n",
       "      <td>278</td>\n",
       "    </tr>\n",
       "    <tr>\n",
       "      <th>Bern / Berne</th>\n",
       "      <th>Homme</th>\n",
       "      <td>1</td>\n",
       "      <td>2174</td>\n",
       "      <td>1024</td>\n",
       "      <td>271</td>\n",
       "      <td>78</td>\n",
       "    </tr>\n",
       "  </tbody>\n",
       "</table>\n",
       "</div>"
      ],
      "text/plain": [
       "                         Moins de 15 ans 15-19 ans 20-24 ans 25-29 ans  \\\n",
       "annee region       sexe                                                  \n",
       "2004  Suisse       Homme             116      9599      8291      3635   \n",
       "                   Femme             137     11896      9554      3146   \n",
       "      Zurich       Homme              66       601       527       385   \n",
       "                   Femme              84       699       607       354   \n",
       "      Bern / Berne Homme               1      2174      1024       271   \n",
       "\n",
       "                         30 ans ou plus  \n",
       "annee region       sexe                  \n",
       "2004  Suisse       Homme           1504  \n",
       "                   Femme           1618  \n",
       "      Zurich       Homme            213  \n",
       "                   Femme            278  \n",
       "      Bern / Berne Homme             78  "
      ]
     },
     "execution_count": 30,
     "metadata": {},
     "output_type": "execute_result"
    }
   ],
   "source": [
    "nb_bourses = read_file('nb-bourses.px')\n",
    "nb_bourses.index.names = ['annee', 'region', 'sexe']\n",
    "nb_bourses.head()"
   ]
  },
  {
   "cell_type": "code",
   "execution_count": 31,
   "metadata": {},
   "outputs": [],
   "source": [
    "type_region = list(nb_bourses.index.get_level_values('region').unique())\n",
    "years = list(nb_bourses.index.get_level_values('annee').unique())"
   ]
  },
  {
   "cell_type": "code",
   "execution_count": 32,
   "metadata": {},
   "outputs": [],
   "source": [
    "def merge_sexe(df):\n",
    "    for y in years:\n",
    "        for c in type_region:\n",
    "            df.loc[(y, c, 'Homme')] =  df.loc[(y,c, 'Homme')].astype(int) + df.loc[(y, c, 'Femme')].astype(int)\n",
    "    \n",
    "    #df['Total'] =  df[df.columns].values.sum(axis=1)\n",
    "    df = df.drop('Femme', level = 'sexe')\n",
    "    df = df.reset_index(level=2)\n",
    "    df = df.drop('sexe', axis =1)\n",
    "    return df"
   ]
  },
  {
   "cell_type": "code",
   "execution_count": 33,
   "metadata": {},
   "outputs": [],
   "source": [
    "def process_df(nb_bourses):\n",
    "    nb_bourses = parse_df(nb_bourses, 3)\n",
    "    bourses = merge_sexe(nb_bourses)\n",
    "    bourses['Total'] = bourses[bourses.columns].sum(axis = 1)\n",
    "    return bourses"
   ]
  },
  {
   "cell_type": "code",
   "execution_count": 34,
   "metadata": {},
   "outputs": [
    {
     "data": {
      "text/html": [
       "<div>\n",
       "<style>\n",
       "    .dataframe thead tr:only-child th {\n",
       "        text-align: right;\n",
       "    }\n",
       "\n",
       "    .dataframe thead th {\n",
       "        text-align: left;\n",
       "    }\n",
       "\n",
       "    .dataframe tbody tr th {\n",
       "        vertical-align: top;\n",
       "    }\n",
       "</style>\n",
       "<table border=\"1\" class=\"dataframe\">\n",
       "  <thead>\n",
       "    <tr style=\"text-align: right;\">\n",
       "      <th></th>\n",
       "      <th></th>\n",
       "      <th>Moins de 15 ans</th>\n",
       "      <th>15-19 ans</th>\n",
       "      <th>20-24 ans</th>\n",
       "      <th>25-29 ans</th>\n",
       "      <th>30 ans ou plus</th>\n",
       "      <th>Total</th>\n",
       "    </tr>\n",
       "    <tr>\n",
       "      <th>annee</th>\n",
       "      <th>region</th>\n",
       "      <th></th>\n",
       "      <th></th>\n",
       "      <th></th>\n",
       "      <th></th>\n",
       "      <th></th>\n",
       "      <th></th>\n",
       "    </tr>\n",
       "  </thead>\n",
       "  <tbody>\n",
       "    <tr>\n",
       "      <th rowspan=\"5\" valign=\"top\">2004</th>\n",
       "      <th>Suisse</th>\n",
       "      <td>253</td>\n",
       "      <td>21495</td>\n",
       "      <td>17845</td>\n",
       "      <td>6781.0</td>\n",
       "      <td>3122.0</td>\n",
       "      <td>49496.0</td>\n",
       "    </tr>\n",
       "    <tr>\n",
       "      <th>Zurich</th>\n",
       "      <td>150</td>\n",
       "      <td>1300</td>\n",
       "      <td>1134</td>\n",
       "      <td>739.0</td>\n",
       "      <td>491.0</td>\n",
       "      <td>3814.0</td>\n",
       "    </tr>\n",
       "    <tr>\n",
       "      <th>Bern / Berne</th>\n",
       "      <td>1</td>\n",
       "      <td>4717</td>\n",
       "      <td>2162</td>\n",
       "      <td>484.0</td>\n",
       "      <td>153.0</td>\n",
       "      <td>7517.0</td>\n",
       "    </tr>\n",
       "    <tr>\n",
       "      <th>Luzern</th>\n",
       "      <td>2</td>\n",
       "      <td>726</td>\n",
       "      <td>859</td>\n",
       "      <td>311.0</td>\n",
       "      <td>137.0</td>\n",
       "      <td>2035.0</td>\n",
       "    </tr>\n",
       "    <tr>\n",
       "      <th>Uri</th>\n",
       "      <td>0</td>\n",
       "      <td>65</td>\n",
       "      <td>73</td>\n",
       "      <td>49.0</td>\n",
       "      <td>14.0</td>\n",
       "      <td>201.0</td>\n",
       "    </tr>\n",
       "  </tbody>\n",
       "</table>\n",
       "</div>"
      ],
      "text/plain": [
       "                   Moins de 15 ans 15-19 ans 20-24 ans  25-29 ans  \\\n",
       "annee region                                                        \n",
       "2004  Suisse                   253     21495     17845     6781.0   \n",
       "      Zurich                   150      1300      1134      739.0   \n",
       "      Bern / Berne               1      4717      2162      484.0   \n",
       "      Luzern                     2       726       859      311.0   \n",
       "      Uri                        0        65        73       49.0   \n",
       "\n",
       "                    30 ans ou plus    Total  \n",
       "annee region                                 \n",
       "2004  Suisse                3122.0  49496.0  \n",
       "      Zurich                 491.0   3814.0  \n",
       "      Bern / Berne           153.0   7517.0  \n",
       "      Luzern                 137.0   2035.0  \n",
       "      Uri                     14.0    201.0  "
      ]
     },
     "execution_count": 34,
     "metadata": {},
     "output_type": "execute_result"
    }
   ],
   "source": [
    "bourse = process_df(nb_bourses)\n",
    "bourse.head()"
   ]
  },
  {
   "cell_type": "code",
   "execution_count": 35,
   "metadata": {},
   "outputs": [
    {
     "data": {
      "text/plain": [
       "<matplotlib.axes._subplots.AxesSubplot at 0x10d863278>"
      ]
     },
     "execution_count": 35,
     "metadata": {},
     "output_type": "execute_result"
    },
    {
     "data": {
      "image/png": "[encoded data removed]",
      "text/plain": [
       "<matplotlib.figure.Figure at 0x10d7690f0>"
      ]
     },
     "metadata": {},
     "output_type": "display_data"
    }
   ],
   "source": [
    "tmp_df = bourse.xs('Suisse', level = 'region', axis = 0)\n",
    "tmp_df[['Total']].plot(kind = 'line')"
   ]
  }
 ],
 "metadata": {
  "anaconda-cloud": {},
  "kernelspec": {
   "display_name": "Python [conda env:py36]",
   "language": "python",
   "name": "conda-env-py36-py"
  },
  "language_info": {
   "codemirror_mode": {
    "name": "ipython",
    "version": 3
   },
   "file_extension": ".py",
   "mimetype": "text/x-python",
   "name": "python",
   "nbconvert_exporter": "python",
   "pygments_lexer": "ipython3",
   "version": "3.6.1"
  }
 },
 "nbformat": 4,
 "nbformat_minor": 2
}
