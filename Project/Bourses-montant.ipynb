{
 "cells": [
  {
   "cell_type": "code",
   "execution_count": 1,
   "metadata": {},
   "outputs": [],
   "source": [
    "import pandas as pd\n",
    "import px_reader as px\n",
    "from helpers import *\n",
    "import matplotlib.pyplot as plt\n",
    "%matplotlib inline"
   ]
  },
  {
   "cell_type": "code",
   "execution_count": 2,
   "metadata": {
    "scrolled": true
   },
   "outputs": [
    {
     "data": {
      "text/html": [
       "<div>\n",
       "<style>\n",
       "    .dataframe thead tr:only-child th {\n",
       "        text-align: right;\n",
       "    }\n",
       "\n",
       "    .dataframe thead th {\n",
       "        text-align: left;\n",
       "    }\n",
       "\n",
       "    .dataframe tbody tr th {\n",
       "        vertical-align: top;\n",
       "    }\n",
       "</style>\n",
       "<table border=\"1\" class=\"dataframe\">\n",
       "  <thead>\n",
       "    <tr style=\"text-align: right;\">\n",
       "      <th></th>\n",
       "      <th></th>\n",
       "      <th></th>\n",
       "      <th>Montant verse en frs</th>\n",
       "      <th>Nombre de beneficiaires</th>\n",
       "    </tr>\n",
       "    <tr>\n",
       "      <th>annee</th>\n",
       "      <th>region</th>\n",
       "      <th>etude</th>\n",
       "      <th></th>\n",
       "      <th></th>\n",
       "    </tr>\n",
       "  </thead>\n",
       "  <tbody>\n",
       "    <tr>\n",
       "      <th rowspan=\"11\" valign=\"top\">2004</th>\n",
       "      <th rowspan=\"11\" valign=\"top\">Suisse</th>\n",
       "      <th>Degres de formation - Total</th>\n",
       "      <td>279331456</td>\n",
       "      <td>49496</td>\n",
       "    </tr>\n",
       "    <tr>\n",
       "      <th>Scolarite obligatoire</th>\n",
       "      <td>702606</td>\n",
       "      <td>214</td>\n",
       "    </tr>\n",
       "    <tr>\n",
       "      <th>Maturite gymnasiale</th>\n",
       "      <td>31538221</td>\n",
       "      <td>7792</td>\n",
       "    </tr>\n",
       "    <tr>\n",
       "      <th>Autres formations generales</th>\n",
       "      <td>19119665</td>\n",
       "      <td>4969</td>\n",
       "    </tr>\n",
       "    <tr>\n",
       "      <th>Formation professionnelle initiale (e plein temps)</th>\n",
       "      <td>28730192</td>\n",
       "      <td>6093</td>\n",
       "    </tr>\n",
       "    <tr>\n",
       "      <th>Formation professionnelle initiale (duale)</th>\n",
       "      <td>43206126</td>\n",
       "      <td>10104</td>\n",
       "    </tr>\n",
       "    <tr>\n",
       "      <th>Maturite professionnelle (apres l'apprentissage)</th>\n",
       "      <td>2615122</td>\n",
       "      <td>613</td>\n",
       "    </tr>\n",
       "    <tr>\n",
       "      <th>Formation professionnelle superieure</th>\n",
       "      <td>18765970</td>\n",
       "      <td>2397</td>\n",
       "    </tr>\n",
       "    <tr>\n",
       "      <th>Hautes ecoles specialisees et pedagogiques</th>\n",
       "      <td>42855197</td>\n",
       "      <td>6019</td>\n",
       "    </tr>\n",
       "    <tr>\n",
       "      <th>Hautes ecoles universitaires</th>\n",
       "      <td>87804126</td>\n",
       "      <td>11775</td>\n",
       "    </tr>\n",
       "    <tr>\n",
       "      <th>Formation continue</th>\n",
       "      <td>3994231</td>\n",
       "      <td>663</td>\n",
       "    </tr>\n",
       "  </tbody>\n",
       "</table>\n",
       "</div>"
      ],
      "text/plain": [
       "                                                                Montant verse en frs  \\\n",
       "annee region etude                                                                     \n",
       "2004  Suisse Degres de formation - Total                                   279331456   \n",
       "             Scolarite obligatoire                                            702606   \n",
       "             Maturite gymnasiale                                            31538221   \n",
       "             Autres formations generales                                    19119665   \n",
       "             Formation professionnelle initiale (e plein temps)             28730192   \n",
       "             Formation professionnelle initiale (duale)                     43206126   \n",
       "             Maturite professionnelle (apres l'apprentissage)                2615122   \n",
       "             Formation professionnelle superieure                           18765970   \n",
       "             Hautes ecoles specialisees et pedagogiques                     42855197   \n",
       "             Hautes ecoles universitaires                                   87804126   \n",
       "             Formation continue                                              3994231   \n",
       "\n",
       "                                                                Nombre de beneficiaires  \n",
       "annee region etude                                                                       \n",
       "2004  Suisse Degres de formation - Total                                          49496  \n",
       "             Scolarite obligatoire                                                  214  \n",
       "             Maturite gymnasiale                                                   7792  \n",
       "             Autres formations generales                                           4969  \n",
       "             Formation professionnelle initiale (e plein temps)                    6093  \n",
       "             Formation professionnelle initiale (duale)                           10104  \n",
       "             Maturite professionnelle (apres l'apprentissage)                       613  \n",
       "             Formation professionnelle superieure                                  2397  \n",
       "             Hautes ecoles specialisees et pedagogiques                            6019  \n",
       "             Hautes ecoles universitaires                                         11775  \n",
       "             Formation continue                                                     663  "
      ]
     },
     "execution_count": 2,
     "metadata": {},
     "output_type": "execute_result"
    }
   ],
   "source": [
    "diplome_bourses = read_file('diplome-bourses.px')\n",
    "diplome_bourses.index.names = ['annee', 'region', 'etude']\n",
    "diplome_bourses.head(11)"
   ]
  },
  {
   "cell_type": "code",
   "execution_count": 5,
   "metadata": {},
   "outputs": [],
   "source": [
    "def get_df_bourse(region = 'Suisse', etude ='Hautes ecoles universitaires'):\n",
    "    tmp_df = diplome_bourses.xs(region, level = 'region', axis = 0)\n",
    "    tmp_df = tmp_df.xs(etude, level = 'etude', axis = 0)\n",
    "    tmp_df = parse_df(tmp_df, 0)\n",
    "    tmp_df['Montant bourse'] = tmp_df['Montant verse en frs'] / tmp_df['Nombre de beneficiaires']\n",
    "    return tmp_df"
   ]
  },
  {
   "cell_type": "code",
   "execution_count": 14,
   "metadata": {},
   "outputs": [],
   "source": [
    "type_region = list(diplome_bourses.index.get_level_values('region').unique())\n",
    "type_etude = list(diplome_bourses.index.get_level_values('etude').unique())\n",
    "years = list(diplome_bourses.index.get_level_values('annee').unique())"
   ]
  },
  {
   "cell_type": "code",
   "execution_count": 15,
   "metadata": {},
   "outputs": [
    {
     "data": {
      "text/plain": [
       "['Suisse',\n",
       " 'Zerich',\n",
       " 'Bern / Berne',\n",
       " 'Luzern',\n",
       " 'Uri',\n",
       " 'Schwyz',\n",
       " 'Obwalden',\n",
       " 'Nidwalden',\n",
       " 'Glarus',\n",
       " 'Zug',\n",
       " 'Fribourg / Freiburg',\n",
       " 'Solothurn',\n",
       " 'Basel-Stadt',\n",
       " 'Basel-Landschaft',\n",
       " 'Schaffhausen',\n",
       " 'Appenzell Ausserrhoden',\n",
       " 'Appenzell Innerrhoden',\n",
       " 'St. Gallen',\n",
       " 'Graubenden / Grigioni / Grischun',\n",
       " 'Aargau',\n",
       " 'Thurgau',\n",
       " 'Ticino',\n",
       " 'Vaud',\n",
       " 'Valais / Wallis',\n",
       " 'Neuchetel',\n",
       " 'Geneve',\n",
       " 'Jura']"
      ]
     },
     "execution_count": 15,
     "metadata": {},
     "output_type": "execute_result"
    }
   ],
   "source": [
    "type_region"
   ]
  },
  {
   "cell_type": "code",
   "execution_count": 13,
   "metadata": {},
   "outputs": [
    {
     "data": {
      "text/plain": [
       "<matplotlib.axes._subplots.AxesSubplot at 0x118f04ba8>"
      ]
     },
     "execution_count": 13,
     "metadata": {},
     "output_type": "execute_result"
    },
    {
     "data": {
      "image/png": "[encoded data removed]",
      "text/plain": [
       "<matplotlib.figure.Figure at 0x1199e54e0>"
      ]
     },
     "metadata": {},
     "output_type": "display_data"
    }
   ],
   "source": [
    "bourse_uni = get_df_bourse('Zerich')\n",
    "bourse_uni[['Nombre de beneficiaires', 'Montant bourse']].plot(kind = 'line', logy = False)"
   ]
  },
  {
   "cell_type": "code",
   "execution_count": 10,
   "metadata": {},
   "outputs": [
    {
     "data": {
      "text/plain": [
       "<matplotlib.axes._subplots.AxesSubplot at 0x118ed7400>"
      ]
     },
     "execution_count": 10,
     "metadata": {},
     "output_type": "execute_result"
    },
    {
     "data": {
      "image/png": "[encoded data removed]",
      "text/plain": [
       "<matplotlib.figure.Figure at 0x118d7feb8>"
      ]
     },
     "metadata": {},
     "output_type": "display_data"
    }
   ],
   "source": [
    "bourse_total = get_df_bourse('Suisse', 'Degres de formation - Total')\n",
    "bourse_total[['Nombre de beneficiaires', 'Montant bourse']].plot(kind = 'line', logy = False)"
   ]
  }
 ],
 "metadata": {
  "anaconda-cloud": {},
  "kernelspec": {
   "display_name": "Python [conda env:py36]",
   "language": "python",
   "name": "conda-env-py36-py"
  },
  "language_info": {
   "codemirror_mode": {
    "name": "ipython",
    "version": 3
   },
   "file_extension": ".py",
   "mimetype": "text/x-python",
   "name": "python",
   "nbconvert_exporter": "python",
   "pygments_lexer": "ipython3",
   "version": "3.6.1"
  }
 },
 "nbformat": 4,
 "nbformat_minor": 2
}
