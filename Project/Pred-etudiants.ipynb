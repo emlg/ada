{
 "cells": [
  {
   "cell_type": "code",
   "execution_count": 1,
   "metadata": {},
   "outputs": [],
   "source": [
    "import pandas as pd\n",
    "import px_reader as px\n",
    "from helpers import *\n",
    "import matplotlib.pyplot as plt\n",
    "%matplotlib inline"
   ]
  },
  {
   "cell_type": "code",
   "execution_count": 2,
   "metadata": {
    "scrolled": true
   },
   "outputs": [
    {
     "data": {
      "text/html": [
       "<div>\n",
       "<style>\n",
       "    .dataframe thead tr:only-child th {\n",
       "        text-align: right;\n",
       "    }\n",
       "\n",
       "    .dataframe thead th {\n",
       "        text-align: left;\n",
       "    }\n",
       "\n",
       "    .dataframe tbody tr th {\n",
       "        vertical-align: top;\n",
       "    }\n",
       "</style>\n",
       "<table border=\"1\" class=\"dataframe\">\n",
       "  <thead>\n",
       "    <tr style=\"text-align: right;\">\n",
       "      <th></th>\n",
       "      <th></th>\n",
       "      <th></th>\n",
       "      <th></th>\n",
       "      <th></th>\n",
       "      <th></th>\n",
       "      <th>Etudiants</th>\n",
       "      <th>Premiers titres</th>\n",
       "    </tr>\n",
       "    <tr>\n",
       "      <th>scenario</th>\n",
       "      <th>uni</th>\n",
       "      <th>filiere</th>\n",
       "      <th>diplome</th>\n",
       "      <th>nationalite</th>\n",
       "      <th>annee</th>\n",
       "      <th></th>\n",
       "      <th></th>\n",
       "    </tr>\n",
       "  </thead>\n",
       "  <tbody>\n",
       "    <tr>\n",
       "      <th rowspan=\"5\" valign=\"top\">Scenario de reference</th>\n",
       "      <th rowspan=\"5\" valign=\"top\">Uni Basel</th>\n",
       "      <th rowspan=\"5\" valign=\"top\">1 Sciences humaines + sociales</th>\n",
       "      <th rowspan=\"5\" valign=\"top\">Bachelor</th>\n",
       "      <th rowspan=\"5\" valign=\"top\">Certificat d'acces etranger</th>\n",
       "      <th>2015</th>\n",
       "      <td>289</td>\n",
       "      <td>61</td>\n",
       "    </tr>\n",
       "    <tr>\n",
       "      <th>2016</th>\n",
       "      <td>283</td>\n",
       "      <td>58</td>\n",
       "    </tr>\n",
       "    <tr>\n",
       "      <th>2017</th>\n",
       "      <td>289</td>\n",
       "      <td>50</td>\n",
       "    </tr>\n",
       "    <tr>\n",
       "      <th>2018</th>\n",
       "      <td>299</td>\n",
       "      <td>50</td>\n",
       "    </tr>\n",
       "    <tr>\n",
       "      <th>2019</th>\n",
       "      <td>303</td>\n",
       "      <td>53</td>\n",
       "    </tr>\n",
       "  </tbody>\n",
       "</table>\n",
       "</div>"
      ],
      "text/plain": [
       "                                                                                                          Etudiants  \\\n",
       "scenario              uni       filiere                        diplome  nationalite                 annee             \n",
       "Scenario de reference Uni Basel 1 Sciences humaines + sociales Bachelor Certificat d'acces etranger 2015        289   \n",
       "                                                                                                    2016        283   \n",
       "                                                                                                    2017        289   \n",
       "                                                                                                    2018        299   \n",
       "                                                                                                    2019        303   \n",
       "\n",
       "                                                                                                          Premiers titres  \n",
       "scenario              uni       filiere                        diplome  nationalite                 annee                  \n",
       "Scenario de reference Uni Basel 1 Sciences humaines + sociales Bachelor Certificat d'acces etranger 2015               61  \n",
       "                                                                                                    2016               58  \n",
       "                                                                                                    2017               50  \n",
       "                                                                                                    2018               50  \n",
       "                                                                                                    2019               53  "
      ]
     },
     "execution_count": 2,
     "metadata": {},
     "output_type": "execute_result"
    }
   ],
   "source": [
    "pred_etudiants = read_file('pred-etudiants.px')\n",
    "pred_etudiants.index.names = ['scenario', 'uni','filiere','diplome', 'nationalite', 'annee']\n",
    "pred_etudiants.head()"
   ]
  },
  {
   "cell_type": "code",
   "execution_count": 3,
   "metadata": {},
   "outputs": [],
   "source": [
    "type_filiere = list(pred_etudiants.index.get_level_values('filiere').unique())\n",
    "years = list(pred_etudiants.index.get_level_values('annee').unique())\n",
    "scenarios = list(pred_etudiants.index.get_level_values('scenario').unique())\n",
    "unis = list(pred_etudiants.index.get_level_values('uni').unique())\n",
    "diplomes = list(pred_etudiants.index.get_level_values('diplome').unique())\n",
    "nationalite = list(pred_etudiants.index.get_level_values('nationalite').unique())"
   ]
  },
  {
   "cell_type": "code",
   "execution_count": 4,
   "metadata": {},
   "outputs": [],
   "source": [
    "pred_etudiants = parse_df(pred_etudiants,0)"
   ]
  },
  {
   "cell_type": "code",
   "execution_count": 5,
   "metadata": {},
   "outputs": [
    {
     "data": {
      "text/plain": [
       "Index(['Etudiants', 'Premiers titres'], dtype='object')"
      ]
     },
     "execution_count": 5,
     "metadata": {},
     "output_type": "execute_result"
    }
   ],
   "source": [
    "pred_etudiants.columns"
   ]
  },
  {
   "cell_type": "code",
   "execution_count": 6,
   "metadata": {},
   "outputs": [
    {
     "data": {
      "text/html": [
       "<div>\n",
       "<style>\n",
       "    .dataframe thead tr:only-child th {\n",
       "        text-align: right;\n",
       "    }\n",
       "\n",
       "    .dataframe thead th {\n",
       "        text-align: left;\n",
       "    }\n",
       "\n",
       "    .dataframe tbody tr th {\n",
       "        vertical-align: top;\n",
       "    }\n",
       "</style>\n",
       "<table border=\"1\" class=\"dataframe\">\n",
       "  <thead>\n",
       "    <tr style=\"text-align: right;\">\n",
       "      <th></th>\n",
       "      <th></th>\n",
       "      <th></th>\n",
       "      <th></th>\n",
       "      <th>Etudiants</th>\n",
       "    </tr>\n",
       "    <tr>\n",
       "      <th>scenario</th>\n",
       "      <th>uni</th>\n",
       "      <th>nationalite</th>\n",
       "      <th>annee</th>\n",
       "      <th></th>\n",
       "    </tr>\n",
       "  </thead>\n",
       "  <tbody>\n",
       "    <tr>\n",
       "      <th rowspan=\"5\" valign=\"top\">Scenario base</th>\n",
       "      <th rowspan=\"5\" valign=\"top\">Autres institutions universitaires</th>\n",
       "      <th rowspan=\"5\" valign=\"top\">Certificat d'acces etranger</th>\n",
       "      <th>2015</th>\n",
       "      <td>336.0</td>\n",
       "    </tr>\n",
       "    <tr>\n",
       "      <th>2016</th>\n",
       "      <td>342.0</td>\n",
       "    </tr>\n",
       "    <tr>\n",
       "      <th>2017</th>\n",
       "      <td>349.0</td>\n",
       "    </tr>\n",
       "    <tr>\n",
       "      <th>2018</th>\n",
       "      <td>356.0</td>\n",
       "    </tr>\n",
       "    <tr>\n",
       "      <th>2019</th>\n",
       "      <td>350.0</td>\n",
       "    </tr>\n",
       "  </tbody>\n",
       "</table>\n",
       "</div>"
      ],
      "text/plain": [
       "                                                                                    Etudiants\n",
       "scenario      uni                                nationalite                 annee           \n",
       "Scenario base Autres institutions universitaires Certificat d'acces etranger 2015       336.0\n",
       "                                                                             2016       342.0\n",
       "                                                                             2017       349.0\n",
       "                                                                             2018       356.0\n",
       "                                                                             2019       350.0"
      ]
     },
     "execution_count": 6,
     "metadata": {},
     "output_type": "execute_result"
    }
   ],
   "source": [
    "pred_etudiants = pred_etudiants.groupby(['scenario', 'uni', 'nationalite', 'annee']).sum()\n",
    "pred_etudiants = pred_etudiants.drop(labels = 'Premiers titres', axis = 1)\n",
    "pred_etudiants.head()"
   ]
  },
  {
   "cell_type": "code",
   "execution_count": 13,
   "metadata": {},
   "outputs": [],
   "source": [
    "def get_df_for_uni(uni, summarized = False):\n",
    "    uni_df = pd.DataFrame(columns = ['ET-bas','CH-bas','ET-ref','CH-ref','ET-haut','CH-haut'])\n",
    "    uni_df.insert(loc=0, column='annee', value=years)\n",
    "    uni_df = uni_df.set_index('annee')\n",
    "    \n",
    "    tmp_df = pred_etudiants.xs(uni, level = 'uni')\n",
    "    for y in years:\n",
    "        uni_df.loc[y] = list(tmp_df.xs(y, level = 'annee').reset_index()['Etudiants'])\n",
    "    return uni_df"
   ]
  },
  {
   "cell_type": "code",
   "execution_count": 14,
   "metadata": {},
   "outputs": [
    {
     "data": {
      "text/html": [
       "<div>\n",
       "<style>\n",
       "    .dataframe thead tr:only-child th {\n",
       "        text-align: right;\n",
       "    }\n",
       "\n",
       "    .dataframe thead th {\n",
       "        text-align: left;\n",
       "    }\n",
       "\n",
       "    .dataframe tbody tr th {\n",
       "        vertical-align: top;\n",
       "    }\n",
       "</style>\n",
       "<table border=\"1\" class=\"dataframe\">\n",
       "  <thead>\n",
       "    <tr style=\"text-align: right;\">\n",
       "      <th></th>\n",
       "      <th>ET-bas</th>\n",
       "      <th>CH-bas</th>\n",
       "      <th>ET-ref</th>\n",
       "      <th>CH-ref</th>\n",
       "      <th>ET-haut</th>\n",
       "      <th>CH-haut</th>\n",
       "    </tr>\n",
       "    <tr>\n",
       "      <th>annee</th>\n",
       "      <th></th>\n",
       "      <th></th>\n",
       "      <th></th>\n",
       "      <th></th>\n",
       "      <th></th>\n",
       "      <th></th>\n",
       "    </tr>\n",
       "  </thead>\n",
       "  <tbody>\n",
       "    <tr>\n",
       "      <th>2015</th>\n",
       "      <td>3346</td>\n",
       "      <td>4096</td>\n",
       "      <td>3346</td>\n",
       "      <td>4096</td>\n",
       "      <td>3346</td>\n",
       "      <td>4096</td>\n",
       "    </tr>\n",
       "    <tr>\n",
       "      <th>2016</th>\n",
       "      <td>3408</td>\n",
       "      <td>4106</td>\n",
       "      <td>3471</td>\n",
       "      <td>4130</td>\n",
       "      <td>3536</td>\n",
       "      <td>4153</td>\n",
       "    </tr>\n",
       "    <tr>\n",
       "      <th>2017</th>\n",
       "      <td>3402</td>\n",
       "      <td>4175</td>\n",
       "      <td>3515</td>\n",
       "      <td>4216</td>\n",
       "      <td>3639</td>\n",
       "      <td>4255</td>\n",
       "    </tr>\n",
       "    <tr>\n",
       "      <th>2018</th>\n",
       "      <td>3339</td>\n",
       "      <td>4245</td>\n",
       "      <td>3490</td>\n",
       "      <td>4300</td>\n",
       "      <td>3662</td>\n",
       "      <td>4351</td>\n",
       "    </tr>\n",
       "    <tr>\n",
       "      <th>2019</th>\n",
       "      <td>3300</td>\n",
       "      <td>4309</td>\n",
       "      <td>3492</td>\n",
       "      <td>4375</td>\n",
       "      <td>3715</td>\n",
       "      <td>4437</td>\n",
       "    </tr>\n",
       "  </tbody>\n",
       "</table>\n",
       "</div>"
      ],
      "text/plain": [
       "       ET-bas  CH-bas  ET-ref  CH-ref  ET-haut  CH-haut\n",
       "annee                                                  \n",
       "2015     3346    4096    3346    4096     3346     4096\n",
       "2016     3408    4106    3471    4130     3536     4153\n",
       "2017     3402    4175    3515    4216     3639     4255\n",
       "2018     3339    4245    3490    4300     3662     4351\n",
       "2019     3300    4309    3492    4375     3715     4437"
      ]
     },
     "execution_count": 14,
     "metadata": {},
     "output_type": "execute_result"
    }
   ],
   "source": [
    "get_df_for_uni('EPF Lausanne').head()"
   ]
  },
  {
   "cell_type": "code",
   "execution_count": 15,
   "metadata": {},
   "outputs": [],
   "source": [
    "def plot_for_uni(uni):\n",
    "    tmp_df = get_df_for_uni(uni)\n",
    "    x = [int(y) for y in years]\n",
    "    plt.plot(years, tmp_df['CH-ref'],\n",
    "            years, tmp_df['ET-ref'])\n",
    "    plt.fill_between(x, tmp_df['CH-haut'], tmp_df['CH-bas'], facecolor='red', alpha = .2)\n",
    "    plt.fill_between(x, tmp_df['ET-haut'], tmp_df['ET-bas'], facecolor='blue', alpha = .2)\n",
    "    plt.show()"
   ]
  },
  {
   "cell_type": "code",
   "execution_count": 16,
   "metadata": {},
   "outputs": [
    {
     "data": {
      "image/png": "[encoded data removed]",
      "text/plain": [
       "<matplotlib.figure.Figure at 0x113d1a6d8>"
      ]
     },
     "metadata": {},
     "output_type": "display_data"
    }
   ],
   "source": [
    "plot_for_uni('EPF Lausanne')"
   ]
  }
 ],
 "metadata": {
  "anaconda-cloud": {},
  "kernelspec": {
   "display_name": "Python [conda env:py36]",
   "language": "python",
   "name": "conda-env-py36-py"
  },
  "language_info": {
   "codemirror_mode": {
    "name": "ipython",
    "version": 3
   },
   "file_extension": ".py",
   "mimetype": "text/x-python",
   "name": "python",
   "nbconvert_exporter": "python",
   "pygments_lexer": "ipython3",
   "version": "3.6.1"
  }
 },
 "nbformat": 4,
 "nbformat_minor": 2
}
