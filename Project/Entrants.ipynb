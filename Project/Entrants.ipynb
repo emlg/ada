{
 "cells": [
  {
   "cell_type": "code",
   "execution_count": 1,
   "metadata": {},
   "outputs": [],
   "source": [
    "import pandas as pd\n",
    "import px_reader as px\n",
    "from helpers import *\n",
    "import matplotlib.pyplot as plt\n",
    "%matplotlib inline"
   ]
  },
  {
   "cell_type": "code",
   "execution_count": 2,
   "metadata": {
    "scrolled": true
   },
   "outputs": [
    {
     "data": {
      "text/html": [
       "<div>\n",
       "<style>\n",
       "    .dataframe thead tr:only-child th {\n",
       "        text-align: right;\n",
       "    }\n",
       "\n",
       "    .dataframe thead th {\n",
       "        text-align: left;\n",
       "    }\n",
       "\n",
       "    .dataframe tbody tr th {\n",
       "        vertical-align: top;\n",
       "    }\n",
       "</style>\n",
       "<table border=\"1\" class=\"dataframe\">\n",
       "  <thead>\n",
       "    <tr style=\"text-align: right;\">\n",
       "      <th></th>\n",
       "      <th></th>\n",
       "      <th></th>\n",
       "      <th>BS</th>\n",
       "      <th>BE</th>\n",
       "      <th>FR</th>\n",
       "      <th>GE</th>\n",
       "      <th>LS</th>\n",
       "      <th>LU</th>\n",
       "      <th>NE</th>\n",
       "      <th>SG</th>\n",
       "      <th>UZH</th>\n",
       "      <th>USI</th>\n",
       "      <th>EPFL</th>\n",
       "      <th>ETHZ</th>\n",
       "      <th>Autres IU</th>\n",
       "    </tr>\n",
       "    <tr>\n",
       "      <th>annee</th>\n",
       "      <th>filiere</th>\n",
       "      <th>nationalite</th>\n",
       "      <th></th>\n",
       "      <th></th>\n",
       "      <th></th>\n",
       "      <th></th>\n",
       "      <th></th>\n",
       "      <th></th>\n",
       "      <th></th>\n",
       "      <th></th>\n",
       "      <th></th>\n",
       "      <th></th>\n",
       "      <th></th>\n",
       "      <th></th>\n",
       "      <th></th>\n",
       "    </tr>\n",
       "  </thead>\n",
       "  <tbody>\n",
       "    <tr>\n",
       "      <th rowspan=\"5\" valign=\"top\">1992</th>\n",
       "      <th rowspan=\"2\" valign=\"top\">Theologie protestante</th>\n",
       "      <th>Suisse</th>\n",
       "      <td>7</td>\n",
       "      <td>24</td>\n",
       "      <td>0</td>\n",
       "      <td>6</td>\n",
       "      <td>10</td>\n",
       "      <td>0</td>\n",
       "      <td>3</td>\n",
       "      <td>0</td>\n",
       "      <td>23</td>\n",
       "      <td>0</td>\n",
       "      <td>0</td>\n",
       "      <td>0</td>\n",
       "      <td>0</td>\n",
       "    </tr>\n",
       "    <tr>\n",
       "      <th>Etranger</th>\n",
       "      <td>26</td>\n",
       "      <td>6</td>\n",
       "      <td>0</td>\n",
       "      <td>4</td>\n",
       "      <td>4</td>\n",
       "      <td>0</td>\n",
       "      <td>3</td>\n",
       "      <td>0</td>\n",
       "      <td>8</td>\n",
       "      <td>0</td>\n",
       "      <td>0</td>\n",
       "      <td>0</td>\n",
       "      <td>0</td>\n",
       "    </tr>\n",
       "    <tr>\n",
       "      <th rowspan=\"2\" valign=\"top\">Theologie catholique-romaine</th>\n",
       "      <th>Suisse</th>\n",
       "      <td>0</td>\n",
       "      <td>0</td>\n",
       "      <td>21</td>\n",
       "      <td>0</td>\n",
       "      <td>0</td>\n",
       "      <td>28</td>\n",
       "      <td>0</td>\n",
       "      <td>0</td>\n",
       "      <td>0</td>\n",
       "      <td>0</td>\n",
       "      <td>0</td>\n",
       "      <td>0</td>\n",
       "      <td>0</td>\n",
       "    </tr>\n",
       "    <tr>\n",
       "      <th>Etranger</th>\n",
       "      <td>0</td>\n",
       "      <td>0</td>\n",
       "      <td>48</td>\n",
       "      <td>0</td>\n",
       "      <td>0</td>\n",
       "      <td>8</td>\n",
       "      <td>0</td>\n",
       "      <td>0</td>\n",
       "      <td>0</td>\n",
       "      <td>0</td>\n",
       "      <td>0</td>\n",
       "      <td>0</td>\n",
       "      <td>0</td>\n",
       "    </tr>\n",
       "    <tr>\n",
       "      <th>Theologie catholique-chretienne</th>\n",
       "      <th>Suisse</th>\n",
       "      <td>0</td>\n",
       "      <td>1</td>\n",
       "      <td>0</td>\n",
       "      <td>0</td>\n",
       "      <td>0</td>\n",
       "      <td>0</td>\n",
       "      <td>0</td>\n",
       "      <td>0</td>\n",
       "      <td>0</td>\n",
       "      <td>0</td>\n",
       "      <td>0</td>\n",
       "      <td>0</td>\n",
       "      <td>0</td>\n",
       "    </tr>\n",
       "  </tbody>\n",
       "</table>\n",
       "</div>"
      ],
      "text/plain": [
       "                                                   BS  BE  FR GE  LS  LU NE  \\\n",
       "annee filiere                         nationalite                             \n",
       "1992  Theologie protestante           Suisse        7  24   0  6  10   0  3   \n",
       "                                      Etranger     26   6   0  4   4   0  3   \n",
       "      Theologie catholique-romaine    Suisse        0   0  21  0   0  28  0   \n",
       "                                      Etranger      0   0  48  0   0   8  0   \n",
       "      Theologie catholique-chretienne Suisse        0   1   0  0   0   0  0   \n",
       "\n",
       "                                                  SG UZH USI EPFL ETHZ  \\\n",
       "annee filiere                         nationalite                        \n",
       "1992  Theologie protestante           Suisse       0  23   0    0    0   \n",
       "                                      Etranger     0   8   0    0    0   \n",
       "      Theologie catholique-romaine    Suisse       0   0   0    0    0   \n",
       "                                      Etranger     0   0   0    0    0   \n",
       "      Theologie catholique-chretienne Suisse       0   0   0    0    0   \n",
       "\n",
       "                                                  Autres IU  \n",
       "annee filiere                         nationalite            \n",
       "1992  Theologie protestante           Suisse              0  \n",
       "                                      Etranger            0  \n",
       "      Theologie catholique-romaine    Suisse              0  \n",
       "                                      Etranger            0  \n",
       "      Theologie catholique-chretienne Suisse              0  "
      ]
     },
     "execution_count": 2,
     "metadata": {},
     "output_type": "execute_result"
    }
   ],
   "source": [
    "etudiants_entrant = read_file('etudiants-entrant.px')\n",
    "etudiants_entrant.index.names = ['annee', 'filiere', 'nationalite']\n",
    "etudiants_entrant.head()"
   ]
  },
  {
   "cell_type": "code",
   "execution_count": 3,
   "metadata": {},
   "outputs": [],
   "source": [
    "type_filiere = list(etudiants_entrant.index.get_level_values('filiere').unique())\n",
    "years = list(etudiants_entrant.index.get_level_values('annee').unique())"
   ]
  },
  {
   "cell_type": "code",
   "execution_count": 4,
   "metadata": {},
   "outputs": [],
   "source": [
    "etudiants_entrant = parse_df(etudiants_entrant, 3)"
   ]
  },
  {
   "cell_type": "code",
   "execution_count": 5,
   "metadata": {
    "scrolled": true
   },
   "outputs": [
    {
     "data": {
      "text/html": [
       "<div>\n",
       "<style>\n",
       "    .dataframe thead tr:only-child th {\n",
       "        text-align: right;\n",
       "    }\n",
       "\n",
       "    .dataframe thead th {\n",
       "        text-align: left;\n",
       "    }\n",
       "\n",
       "    .dataframe tbody tr th {\n",
       "        vertical-align: top;\n",
       "    }\n",
       "</style>\n",
       "<table border=\"1\" class=\"dataframe\">\n",
       "  <thead>\n",
       "    <tr style=\"text-align: right;\">\n",
       "      <th></th>\n",
       "      <th></th>\n",
       "      <th></th>\n",
       "      <th>EPFL</th>\n",
       "    </tr>\n",
       "    <tr>\n",
       "      <th>annee</th>\n",
       "      <th>filiere</th>\n",
       "      <th>nationalite</th>\n",
       "      <th></th>\n",
       "    </tr>\n",
       "  </thead>\n",
       "  <tbody>\n",
       "    <tr>\n",
       "      <th rowspan=\"5\" valign=\"top\">1992</th>\n",
       "      <th rowspan=\"2\" valign=\"top\">Theologie protestante</th>\n",
       "      <th>Suisse</th>\n",
       "      <td>0.0</td>\n",
       "    </tr>\n",
       "    <tr>\n",
       "      <th>Etranger</th>\n",
       "      <td>0.0</td>\n",
       "    </tr>\n",
       "    <tr>\n",
       "      <th rowspan=\"2\" valign=\"top\">Theologie catholique-romaine</th>\n",
       "      <th>Suisse</th>\n",
       "      <td>0.0</td>\n",
       "    </tr>\n",
       "    <tr>\n",
       "      <th>Etranger</th>\n",
       "      <td>0.0</td>\n",
       "    </tr>\n",
       "    <tr>\n",
       "      <th>Theologie catholique-chretienne</th>\n",
       "      <th>Suisse</th>\n",
       "      <td>0.0</td>\n",
       "    </tr>\n",
       "  </tbody>\n",
       "</table>\n",
       "</div>"
      ],
      "text/plain": [
       "                                                   EPFL\n",
       "annee filiere                         nationalite      \n",
       "1992  Theologie protestante           Suisse        0.0\n",
       "                                      Etranger      0.0\n",
       "      Theologie catholique-romaine    Suisse        0.0\n",
       "                                      Etranger      0.0\n",
       "      Theologie catholique-chretienne Suisse        0.0"
      ]
     },
     "execution_count": 5,
     "metadata": {},
     "output_type": "execute_result"
    }
   ],
   "source": [
    "etudiants_entrant[['EPFL']].head()"
   ]
  },
  {
   "cell_type": "code",
   "execution_count": 6,
   "metadata": {},
   "outputs": [],
   "source": [
    "def get_df_for_uni(uni, summarized = True):\n",
    "    uni_df = pd.DataFrame(columns = ['Etranger', 'Suisse'])\n",
    "    uni_df.insert(loc=0, column='annee', value=years)\n",
    "    uni_df = uni_df.set_index('annee')\n",
    "    tmp_df = etudiants_entrant[[uni]]\n",
    "    if summarized:\n",
    "        tmp_df = tmp_df.groupby(['annee', 'nationalite']).sum()\n",
    "        for y in years:\n",
    "            uni_df.loc[y] = list((tmp_df.loc[y][uni].reset_index())[uni])\n",
    "        uni_df['Total'] = uni_df[['Etranger', 'Suisse']].sum(axis=1)\n",
    "        return uni_df#.drop('Licences/Diplemes', axis = 1)\n",
    "    else:\n",
    "        return tmp_df"
   ]
  },
  {
   "cell_type": "code",
   "execution_count": 7,
   "metadata": {},
   "outputs": [
    {
     "data": {
      "text/plain": [
       "<matplotlib.axes._subplots.AxesSubplot at 0x1114e1978>"
      ]
     },
     "execution_count": 7,
     "metadata": {},
     "output_type": "execute_result"
    },
    {
     "data": {
      "image/png": "[encoded data removed]",
      "text/plain": [
       "<matplotlib.figure.Figure at 0x11146bf60>"
      ]
     },
     "metadata": {},
     "output_type": "display_data"
    }
   ],
   "source": [
    "summ_uni = get_df_for_uni('EPFL')\n",
    "summ_uni.plot(kind = 'line')"
   ]
  }
 ],
 "metadata": {
  "anaconda-cloud": {},
  "kernelspec": {
   "display_name": "Python [conda env:py36]",
   "language": "python",
   "name": "conda-env-py36-py"
  },
  "language_info": {
   "codemirror_mode": {
    "name": "ipython",
    "version": 3
   },
   "file_extension": ".py",
   "mimetype": "text/x-python",
   "name": "python",
   "nbconvert_exporter": "python",
   "pygments_lexer": "ipython3",
   "version": "3.6.1"
  }
 },
 "nbformat": 4,
 "nbformat_minor": 2
}
